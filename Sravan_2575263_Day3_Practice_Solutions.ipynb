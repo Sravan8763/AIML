{
 "cells": [
  {
   "cell_type": "markdown",
   "id": "4ddbc25a",
   "metadata": {},
   "source": [
    "# 1. Write a python function that copies a file reading and writing up to 50 characters at a time."
   ]
  },
  {
   "cell_type": "code",
   "execution_count": null,
   "id": "5cfd9d75",
   "metadata": {},
   "outputs": [],
   "source": [
    "\n",
    "f=open('firstex.txt','w')\n",
    "f.writelines('File handling is an integral part of programming. File handling in Python is simplified with built-in methods, which include creating, opening, and closing files. While files are open, Python additionally allows performing various file operations, such as reading, writing, and appending information.')\n"
   ]
  },
  {
   "cell_type": "code",
   "execution_count": null,
   "id": "b46afb43",
   "metadata": {},
   "outputs": [],
   "source": [
    "f.close()"
   ]
  },
  {
   "cell_type": "code",
   "execution_count": null,
   "id": "a06c82f9",
   "metadata": {},
   "outputs": [],
   "source": [
    "f.writelines"
   ]
  },
  {
   "cell_type": "code",
   "execution_count": null,
   "id": "643ef611",
   "metadata": {},
   "outputs": [],
   "source": [
    "f=open('firstex.txt','r')\n",
    "f.read()"
   ]
  },
  {
   "cell_type": "code",
   "execution_count": null,
   "id": "04ae130a",
   "metadata": {},
   "outputs": [],
   "source": [
    "f.close()"
   ]
  },
  {
   "cell_type": "code",
   "execution_count": null,
   "id": "01ce0dd4",
   "metadata": {},
   "outputs": [],
   "source": [
    "f1=open('firstex.txt', 'r')\n",
    "f2=open('secondex.txt', 'w')\n",
    "content=f1.read(50)\n",
    "f2.write(content)"
   ]
  },
  {
   "cell_type": "markdown",
   "id": "006264a4",
   "metadata": {},
   "source": [
    "# 2. Print all numbers present in the text file and print the number of blank spaces in that file."
   ]
  },
  {
   "cell_type": "code",
   "execution_count": null,
   "id": "ce9620b8",
   "metadata": {},
   "outputs": [],
   "source": [
    "def blank_spaces():\n",
    "    f3=open('firstex.txt', 'r')\n",
    "    cont=f3.read()\n",
    "    count=0\n",
    "    for i in cont:\n",
    "        if i.isnumeric():\n",
    "            print(i)\n",
    "            \n",
    "        if i.isspace():\n",
    "            count+=1\n",
    "            \n",
    "    print(\"The total number of spaces are: \",count)\n",
    "\n",
    "blank_spaces()\n",
    "    "
   ]
  },
  {
   "cell_type": "markdown",
   "id": "b88b6a95",
   "metadata": {},
   "source": [
    "# 3. Write a function called sed that takes as arguments a pattern string, a replacement string. and two filenames; it should read the first file and write the contents into the second file (creating it if necessary). If the pattern string appears anywhere in the file, it should be replaced with the replacement string. If an error occurs while opening, reading, writing. or closing files, your program should catch the exception, print an error message, and exit.\n"
   ]
  },
  {
   "cell_type": "code",
   "execution_count": null,
   "id": "83d41006",
   "metadata": {},
   "outputs": [],
   "source": [
    "def sed(pattern,replacement,file1,file2):\n",
    "    try: \n",
    "        f1=open(file1,'r')\n",
    "        f2=open(file2,'w')\n",
    "        for i in f1:\n",
    "            name=i.replace(pattern,replacement)\n",
    "            f2.write(name)\n",
    "        print(\"pattern {} replaced with {} in {} and saved to {}\".format(pattern,replacement,file1,file2))\n",
    "        \n",
    "    except FileNotFoundError:\n",
    "        print(\"Error, The file does not exist.\", file1)\n",
    "    except Exception as e:\n",
    "        print(\"An error occured:\", str(e))\n",
    "\n",
    "sed('Sravan', 'B', 'firstex.txt', 'thirdex.txt')\n",
    "\n",
    "            "
   ]
  },
  {
   "cell_type": "markdown",
   "id": "5571eb92",
   "metadata": {},
   "source": [
    "# 4. Log File Analysis: You have a log file containing records of user activities on a website. Each line in the file represents a log entry with details like timestamp, user ID, and action performed. Your task is to analyze this log file.\n"
   ]
  },
  {
   "cell_type": "code",
   "execution_count": null,
   "id": "1c9c8c5b",
   "metadata": {},
   "outputs": [],
   "source": []
  },
  {
   "cell_type": "markdown",
   "id": "f1db8a1f",
   "metadata": {},
   "source": [
    "# 5. Text File Search and Replace: You have a text file with a large amount of text, and you want to search for specific words or phrases and replace them with new content. a. Write Python code to search for and replace text within a text file.\n",
    "\n",
    "b. How would you handle cases where you need to perform multiple replacements in a single pass?\n"
   ]
  },
  {
   "cell_type": "code",
   "execution_count": null,
   "id": "0c14eaeb",
   "metadata": {},
   "outputs": [],
   "source": [
    "file5=open('fiveex.txt','w')\n",
    "file5.writelines(\"Sravan Kumar Balijepalli is staying in Goa.\")\n",
    "file5.close()"
   ]
  },
  {
   "cell_type": "code",
   "execution_count": null,
   "id": "cf643850",
   "metadata": {},
   "outputs": [],
   "source": [
    "file5=open('fiveex.txt','r')\n",
    "file5.read()"
   ]
  },
  {
   "cell_type": "code",
   "execution_count": null,
   "id": "dbd54590",
   "metadata": {},
   "outputs": [],
   "source": [
    "file5.close()"
   ]
  },
  {
   "cell_type": "code",
   "execution_count": null,
   "id": "bf9c9717",
   "metadata": {},
   "outputs": [],
   "source": [
    "def search_replace(f1,f2,replacements):\n",
    "    file6=open(f1,'r')\n",
    "    file7=open(f2,'w')\n",
    "    \n",
    "    for i in file6:\n",
    "        for search,replace in replacements.items():\n",
    "            i=i.replace(search,replace)\n",
    "            \n",
    "        file7.write(i)\n",
    "        \n",
    "    print(\"Search and replace complete in {} and saved in {}\".format(f1,f2))\n",
    "    \n",
    "replacements={\"Sravan\": \"S\", \"Balijepalli\":\"B\",\"Goa\":\"Andhra\"}\n",
    "\n",
    "search_replace('fiveex.txt','fiveex2.txt',replacements)"
   ]
  },
  {
   "cell_type": "code",
   "execution_count": null,
   "id": "93a0836e",
   "metadata": {},
   "outputs": [],
   "source": [
    "file8=open(\"fiveex2.txt\",\"r\")\n",
    "file8.read()"
   ]
  },
  {
   "cell_type": "markdown",
   "id": "81eb2dc3",
   "metadata": {},
   "source": [
    "# 6. Write a Python script that concatenates the contents of multiple text files into a single output file. Allow the user to specify the input files and the output file."
   ]
  },
  {
   "cell_type": "code",
   "execution_count": null,
   "id": "626967c8",
   "metadata": {},
   "outputs": [],
   "source": [
    "def concate(f1,f2):\n",
    "    with open(f2, 'w') as files:\n",
    "        for i in f1:\n",
    "            with open(f1,'r') as filess:\n",
    "                files.write(filess.read())\n",
    "    print(\"concated files successfully\")\n",
    "    \n",
    "input_files=[]\n",
    "\n",
    "while True:\n",
    "    path=input(\"Enter the file(or press 'quit' to quit): \")\n",
    "    if path.lower() == 'quit':\n",
    "        break\n",
    "    input_files.append(path)\n",
    "    \n",
    "if not input_files:\n",
    "    print(\"No files provided\")\n",
    "    \n",
    "else:\n",
    "    f2=input(\"enter the output file: \")\n",
    "    concate(f1,f2)\n",
    "    \n",
    "        "
   ]
  },
  {
   "cell_type": "markdown",
   "id": "4e530456",
   "metadata": {},
   "source": [
    "# 7. You are given a text file named input.txt containing a list of words, one word per line.\n",
    "\n",
    "Your task is to create a Python program that reads the contents of input.txt, processes the words, and writes the result to an output file named output.txt.\n"
   ]
  },
  {
   "cell_type": "code",
   "execution_count": 4,
   "id": "b233057d",
   "metadata": {},
   "outputs": [],
   "source": [
    "file1=open(\"seven.txt\", 'r')\n",
    "file1.read()\n",
    "file1.close()"
   ]
  },
  {
   "cell_type": "code",
   "execution_count": 7,
   "id": "7cfee04d",
   "metadata": {},
   "outputs": [
    {
     "name": "stdout",
     "output_type": "stream",
     "text": [
      "Successfull\n"
     ]
    }
   ],
   "source": [
    "try:\n",
    "    with open('seven.txt', 'r') as file, open('seven2.txt', 'w') as file1:\n",
    "        words = {}\n",
    "        for i in file:\n",
    "            word = i.strip()  \n",
    "            length = len(word)\n",
    "            words[word] = length\n",
    "\n",
    "        for word, length in words.items():\n",
    "            file1.write(f\"{word}: {length}\\n\")\n",
    "\n",
    "    print(\"Successfull\")\n",
    "except FileNotFoundError:\n",
    "    print(\"Error\")\n",
    "except Exception as e:\n",
    "    print(\"An error occurred: \",{str(e)})"
   ]
  },
  {
   "cell_type": "markdown",
   "id": "3790bf41",
   "metadata": {},
   "source": [
    "# 8. Assume that you are developing a student gradebook system for a school. The system should allow teachers to input student grades for various subjects, store the data in files, and provide students with the ability to view their grades. Design a Python program that accomplishes the following tasks:\n"
   ]
  },
  {
   "cell_type": "code",
   "execution_count": 13,
   "id": "337c3f96",
   "metadata": {},
   "outputs": [
    {
     "name": "stdout",
     "output_type": "stream",
     "text": [
      "Gradebook Menu:\n",
      "1. Input Grades\n",
      "2. View Grades\n",
      "3. Exit\n",
      "Enter your choice (1/2/3): 1\n",
      "Enter Student ID: 2575263\n",
      "Enter Subject: physics\n",
      "Enter Grade: 56\n",
      "Gradebook Menu:\n",
      "1. Input Grades\n",
      "2. View Grades\n",
      "3. Exit\n",
      "Enter your choice (1/2/3): 3\n",
      "Exiting.\n"
     ]
    }
   ],
   "source": [
    "import os\n",
    "\n",
    "\n",
    "def input_grades(student_id, subject, grade):\n",
    "    filename = f\"{subject}_grades.txt\"\n",
    "    with open(filename, 'a') as file:\n",
    "        file.write(f\"{student_id}: {grade}\\n\")\n",
    "\n",
    "def view_grades(student_id, subject):\n",
    "    filename = f\"{subject}_grades.txt\"\n",
    "    with open(filename, 'r') as file:\n",
    "        lines = file.readlines()\n",
    "        student_grades = [line.strip() for line in lines if line.startswith(f\"{student_id}: \")]\n",
    "        if student_grades:\n",
    "            print(f\"Grades for {student_id} in {subject}:\")\n",
    "            for grade in student_grades:\n",
    "                print(grade)\n",
    "        else:\n",
    "            print(f\"No grades found for {student_id} in {subject}.\")\n",
    "\n",
    "\n",
    "while True:\n",
    "    print(\"Gradebook Menu:\")\n",
    "    print(\"1. Input Grades\")\n",
    "    print(\"2. View Grades\")\n",
    "    print(\"3. Exit\")\n",
    "    choice = input(\"Enter your choice (1/2/3): \")\n",
    "\n",
    "    if choice == \"1\":\n",
    "        student_id = input(\"Enter Student ID: \")\n",
    "        subject = input(\"Enter Subject: \")\n",
    "        grade = input(\"Enter Grade: \")\n",
    "        input_grades(student_id, subject, grade)\n",
    "    elif choice == \"2\":\n",
    "        student_id = input(\"Enter Student ID: \")\n",
    "        subject = input(\"Enter Subject: \")\n",
    "        view_grades(student_id, subject)\n",
    "    elif choice == \"3\":\n",
    "        print(\"Exiting.\")\n",
    "        break\n",
    "    else:\n",
    "        print(\"Invalid Choice\")"
   ]
  },
  {
   "cell_type": "code",
   "execution_count": null,
   "id": "c0699950",
   "metadata": {},
   "outputs": [],
   "source": []
  }
 ],
 "metadata": {
  "kernelspec": {
   "display_name": "Python 3 (ipykernel)",
   "language": "python",
   "name": "python3"
  },
  "language_info": {
   "codemirror_mode": {
    "name": "ipython",
    "version": 3
   },
   "file_extension": ".py",
   "mimetype": "text/x-python",
   "name": "python",
   "nbconvert_exporter": "python",
   "pygments_lexer": "ipython3",
   "version": "3.11.4"
  }
 },
 "nbformat": 4,
 "nbformat_minor": 5
}
