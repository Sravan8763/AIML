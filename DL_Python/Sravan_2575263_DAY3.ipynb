{
 "cells": [
  {
   "cell_type": "markdown",
   "id": "e303bbb2",
   "metadata": {},
   "source": [
    "# Problem-1"
   ]
  },
  {
   "cell_type": "code",
   "execution_count": 6,
   "id": "3dcc78ff",
   "metadata": {},
   "outputs": [],
   "source": [
    "from keras.datasets import mnist\n",
    "from keras.models import Sequential\n",
    "from keras.layers import Dense,Dropout\n",
    "from keras.optimizers import RMSprop\n",
    "from keras.optimizers import SGD\n",
    "from matplotlib import pyplot\n",
    "import matplotlib.pyplot as plt\n",
    "from keras.layers import BatchNormalization"
   ]
  },
  {
   "cell_type": "code",
   "execution_count": 9,
   "id": "424feb8b",
   "metadata": {},
   "outputs": [],
   "source": [
    "batch_size=128\n",
    "num_classes=10\n",
    "epochs=20"
   ]
  },
  {
   "cell_type": "code",
   "execution_count": 10,
   "id": "399308a2",
   "metadata": {},
   "outputs": [
    {
     "name": "stdout",
     "output_type": "stream",
     "text": [
      "Downloading data from https://storage.googleapis.com/tensorflow/tf-keras-datasets/mnist.npz\n",
      "11490434/11490434 [==============================] - 3s 0us/step\n",
      "Shape-x:\t (60000, 28, 28)\n",
      "Shape-y:\t (60000,)\n"
     ]
    }
   ],
   "source": [
    "(xtrain,ytrain),(xtest,ytest)=mnist.load_data()\n",
    "print('Shape-x:\\t',xtrain.shape)\n",
    "print('Shape-y:\\t',ytrain.shape)"
   ]
  },
  {
   "cell_type": "code",
   "execution_count": 11,
   "id": "bc285b52",
   "metadata": {},
   "outputs": [
    {
     "name": "stdout",
     "output_type": "stream",
     "text": [
      "Shape-x-train:\t (60000, 784)\n",
      "Shape-x-Test:\t (10000, 784)\n"
     ]
    }
   ],
   "source": [
    "xtrain=xtrain.reshape(60000,784)\n",
    "xtest=xtest.reshape(10000,784)\n",
    "print('Shape-x-train:\\t',xtrain.shape)\n",
    "print('Shape-x-Test:\\t',xtest.shape)"
   ]
  },
  {
   "cell_type": "code",
   "execution_count": 12,
   "id": "52907d43",
   "metadata": {},
   "outputs": [],
   "source": [
    "xtrain=xtrain.astype('float32')\n",
    "xtest=xtest.astype('float32')"
   ]
  },
  {
   "cell_type": "code",
   "execution_count": 13,
   "id": "5877b09d",
   "metadata": {},
   "outputs": [],
   "source": [
    "xtrain=xtrain/255.\n",
    "xtest=xtest/255."
   ]
  },
  {
   "cell_type": "code",
   "execution_count": 14,
   "id": "95681d02",
   "metadata": {},
   "outputs": [
    {
     "name": "stdout",
     "output_type": "stream",
     "text": [
      "60000 train samples\n",
      "10000 test samples\n"
     ]
    }
   ],
   "source": [
    "print(xtrain.shape[0],'train samples')\n",
    "print(xtest.shape[0],'test samples')"
   ]
  },
  {
   "cell_type": "code",
   "execution_count": 15,
   "id": "fc8f62d7",
   "metadata": {},
   "outputs": [],
   "source": [
    "import keras\n",
    "ytrain=keras.utils.to_categorical(ytrain,num_classes)\n",
    "ytest=keras.utils.to_categorical(ytest,num_classes)"
   ]
  },
  {
   "cell_type": "code",
   "execution_count": 16,
   "id": "d72f22b4",
   "metadata": {},
   "outputs": [
    {
     "data": {
      "text/plain": [
       "(60000, 10)"
      ]
     },
     "execution_count": 16,
     "metadata": {},
     "output_type": "execute_result"
    }
   ],
   "source": [
    "ytrain.shape"
   ]
  },
  {
   "cell_type": "code",
   "execution_count": 25,
   "id": "a2770cc3",
   "metadata": {},
   "outputs": [],
   "source": [
    "model=Sequential()\n",
    "model.add(Dense(512,activation='relu',input_shape=(784,)))\n",
    "model.add(Dense(512,activation='relu'))\n",
    "model.add(BatchNormalization())\n",
    "model.add(Dense(num_classes,activation='softmax'))\n",
    "optm=SGD(learning_rate=0.01,momentum=0.9)\n",
    "\n",
    "model.compile(loss='binary_crossentropy',optimizer=optm,metrics=['accuracy'])"
   ]
  },
  {
   "cell_type": "code",
   "execution_count": 26,
   "id": "0ca75784",
   "metadata": {},
   "outputs": [
    {
     "name": "stdout",
     "output_type": "stream",
     "text": [
      "Model: \"sequential_4\"\n",
      "_________________________________________________________________\n",
      " Layer (type)                Output Shape              Param #   \n",
      "=================================================================\n",
      " dense_8 (Dense)             (None, 512)               401920    \n",
      "                                                                 \n",
      " dense_9 (Dense)             (None, 512)               262656    \n",
      "                                                                 \n",
      " batch_normalization_4 (Bat  (None, 512)               2048      \n",
      " chNormalization)                                                \n",
      "                                                                 \n",
      " dense_10 (Dense)            (None, 10)                5130      \n",
      "                                                                 \n",
      "=================================================================\n",
      "Total params: 671754 (2.56 MB)\n",
      "Trainable params: 670730 (2.56 MB)\n",
      "Non-trainable params: 1024 (4.00 KB)\n",
      "_________________________________________________________________\n"
     ]
    }
   ],
   "source": [
    "model.summary()"
   ]
  },
  {
   "cell_type": "code",
   "execution_count": 28,
   "id": "2c9dec77",
   "metadata": {},
   "outputs": [
    {
     "name": "stdout",
     "output_type": "stream",
     "text": [
      "Epoch 1/30\n",
      "1875/1875 [==============================] - 13s 7ms/step - loss: 0.0123 - accuracy: 0.9862 - val_loss: 0.0148 - val_accuracy: 0.9805\n",
      "Epoch 2/30\n",
      "1875/1875 [==============================] - 14s 7ms/step - loss: 0.0099 - accuracy: 0.9894 - val_loss: 0.0138 - val_accuracy: 0.9815\n",
      "Epoch 3/30\n",
      "1875/1875 [==============================] - 14s 7ms/step - loss: 0.0081 - accuracy: 0.9925 - val_loss: 0.0135 - val_accuracy: 0.9814\n",
      "Epoch 4/30\n",
      "1875/1875 [==============================] - 14s 8ms/step - loss: 0.0068 - accuracy: 0.9941 - val_loss: 0.0129 - val_accuracy: 0.9829\n",
      "Epoch 5/30\n",
      "1875/1875 [==============================] - 14s 7ms/step - loss: 0.0057 - accuracy: 0.9959 - val_loss: 0.0123 - val_accuracy: 0.9826\n",
      "Epoch 6/30\n",
      "1875/1875 [==============================] - 14s 7ms/step - loss: 0.0048 - accuracy: 0.9969 - val_loss: 0.0124 - val_accuracy: 0.9828\n",
      "Epoch 7/30\n",
      "1875/1875 [==============================] - 14s 8ms/step - loss: 0.0042 - accuracy: 0.9974 - val_loss: 0.0124 - val_accuracy: 0.9833\n",
      "Epoch 8/30\n",
      "1875/1875 [==============================] - 16s 9ms/step - loss: 0.0036 - accuracy: 0.9980 - val_loss: 0.0123 - val_accuracy: 0.9830\n",
      "Epoch 9/30\n",
      "1875/1875 [==============================] - 15s 8ms/step - loss: 0.0032 - accuracy: 0.9988 - val_loss: 0.0122 - val_accuracy: 0.9837\n",
      "Epoch 10/30\n",
      "1875/1875 [==============================] - 15s 8ms/step - loss: 0.0028 - accuracy: 0.9988 - val_loss: 0.0123 - val_accuracy: 0.9833\n",
      "Epoch 11/30\n",
      "1875/1875 [==============================] - 15s 8ms/step - loss: 0.0024 - accuracy: 0.9992 - val_loss: 0.0120 - val_accuracy: 0.9831\n",
      "Epoch 12/30\n",
      "1875/1875 [==============================] - 15s 8ms/step - loss: 0.0021 - accuracy: 0.9996 - val_loss: 0.0122 - val_accuracy: 0.9836\n",
      "Epoch 13/30\n",
      "1875/1875 [==============================] - 15s 8ms/step - loss: 0.0019 - accuracy: 0.9997 - val_loss: 0.0118 - val_accuracy: 0.9843\n",
      "Epoch 14/30\n",
      "1875/1875 [==============================] - 14s 8ms/step - loss: 0.0017 - accuracy: 0.9996 - val_loss: 0.0119 - val_accuracy: 0.9845\n",
      "Epoch 15/30\n",
      "1875/1875 [==============================] - 15s 8ms/step - loss: 0.0015 - accuracy: 0.9997 - val_loss: 0.0119 - val_accuracy: 0.9844\n",
      "Epoch 16/30\n",
      "1875/1875 [==============================] - 15s 8ms/step - loss: 0.0014 - accuracy: 0.9998 - val_loss: 0.0120 - val_accuracy: 0.9843\n",
      "Epoch 17/30\n",
      "1875/1875 [==============================] - 15s 8ms/step - loss: 0.0013 - accuracy: 0.9999 - val_loss: 0.0121 - val_accuracy: 0.9840\n",
      "Epoch 18/30\n",
      "1875/1875 [==============================] - 14s 8ms/step - loss: 0.0012 - accuracy: 0.9998 - val_loss: 0.0122 - val_accuracy: 0.9833\n",
      "Epoch 19/30\n",
      "1875/1875 [==============================] - 15s 8ms/step - loss: 0.0011 - accuracy: 0.9999 - val_loss: 0.0123 - val_accuracy: 0.9843\n",
      "Epoch 20/30\n",
      "1875/1875 [==============================] - 15s 8ms/step - loss: 9.9938e-04 - accuracy: 1.0000 - val_loss: 0.0122 - val_accuracy: 0.9841\n",
      "Epoch 21/30\n",
      "1875/1875 [==============================] - 15s 8ms/step - loss: 9.5405e-04 - accuracy: 0.9999 - val_loss: 0.0122 - val_accuracy: 0.9839\n",
      "Epoch 22/30\n",
      "1875/1875 [==============================] - 14s 8ms/step - loss: 8.8848e-04 - accuracy: 1.0000 - val_loss: 0.0122 - val_accuracy: 0.9847\n",
      "Epoch 23/30\n",
      "1875/1875 [==============================] - 14s 7ms/step - loss: 8.5310e-04 - accuracy: 1.0000 - val_loss: 0.0121 - val_accuracy: 0.9841\n",
      "Epoch 24/30\n",
      "1875/1875 [==============================] - 14s 7ms/step - loss: 7.7295e-04 - accuracy: 1.0000 - val_loss: 0.0122 - val_accuracy: 0.9841\n",
      "Epoch 25/30\n",
      "1875/1875 [==============================] - 14s 8ms/step - loss: 7.2430e-04 - accuracy: 0.9999 - val_loss: 0.0121 - val_accuracy: 0.9846\n",
      "Epoch 26/30\n",
      "1875/1875 [==============================] - 14s 7ms/step - loss: 7.1532e-04 - accuracy: 1.0000 - val_loss: 0.0124 - val_accuracy: 0.9849\n",
      "Epoch 27/30\n",
      "1875/1875 [==============================] - 14s 8ms/step - loss: 7.0760e-04 - accuracy: 1.0000 - val_loss: 0.0125 - val_accuracy: 0.9840\n",
      "Epoch 28/30\n",
      "1875/1875 [==============================] - 15s 8ms/step - loss: 6.6632e-04 - accuracy: 1.0000 - val_loss: 0.0123 - val_accuracy: 0.9853\n",
      "Epoch 29/30\n",
      "1875/1875 [==============================] - 15s 8ms/step - loss: 6.1074e-04 - accuracy: 1.0000 - val_loss: 0.0123 - val_accuracy: 0.9846\n",
      "Epoch 30/30\n",
      "1875/1875 [==============================] - 13s 7ms/step - loss: 6.1525e-04 - accuracy: 1.0000 - val_loss: 0.0124 - val_accuracy: 0.9843\n"
     ]
    }
   ],
   "source": [
    "history=model.fit(xtrain,ytrain,validation_data=(xtest,ytest),epochs=30,verbose=1)"
   ]
  },
  {
   "cell_type": "code",
   "execution_count": 30,
   "id": "9b47d600",
   "metadata": {},
   "outputs": [
    {
     "name": "stdout",
     "output_type": "stream",
     "text": [
      "1875/1875 [==============================] - 6s 3ms/step - loss: 2.0288e-04 - accuracy: 1.0000\n",
      "313/313 [==============================] - 1s 3ms/step - loss: 0.0124 - accuracy: 0.9843\n",
      "Train Accuracy:\t 1.0\n",
      "\n",
      "Test Accuracy:\t 0.9843000173568726\n"
     ]
    }
   ],
   "source": [
    "_,train_acc=model.evaluate(xtrain,ytrain,verbose=1)\n",
    "_,test_acc=model.evaluate(xtest,ytest,verbose=1)\n",
    "print('Train Accuracy:\\t',train_acc)\n",
    "print()\n",
    "print('Test Accuracy:\\t',test_acc)"
   ]
  },
  {
   "cell_type": "code",
   "execution_count": 31,
   "id": "ca81e1ce",
   "metadata": {},
   "outputs": [
    {
     "data": {
      "image/png": "[encoded data removed]",
      "text/plain": [
       "<Figure size 640x480 with 1 Axes>"
      ]
     },
     "metadata": {},
     "output_type": "display_data"
    }
   ],
   "source": [
    "pyplot.plot(history.history['accuracy'],label='train')\n",
    "pyplot.plot(history.history['val_accuracy'],label='test')\n",
    "pyplot.legend()\n",
    "pyplot.show()"
   ]
  },
  {
   "cell_type": "code",
   "execution_count": 34,
   "id": "fb7a85b6",
   "metadata": {},
   "outputs": [
    {
     "data": {
      "image/png": "[encoded data removed]",
      "text/plain": [
       "<Figure size 640x480 with 1 Axes>"
      ]
     },
     "metadata": {},
     "output_type": "display_data"
    }
   ],
   "source": [
    "pyplot.plot(history.history['loss'],label='train')\n",
    "pyplot.plot(history.history['val_loss'],label='test')\n",
    "pyplot.legend()\n",
    "pyplot.show()"
   ]
  },
  {
   "cell_type": "code",
   "execution_count": null,
   "id": "950aca77",
   "metadata": {},
   "outputs": [],
   "source": []
  },
  {
   "cell_type": "markdown",
   "id": "7c719773",
   "metadata": {},
   "source": [
    "# Problem-2"
   ]
  },
  {
   "cell_type": "code",
   "execution_count": 8,
   "id": "322a4010",
   "metadata": {},
   "outputs": [
    {
     "name": "stdout",
     "output_type": "stream",
     "text": [
      "Collecting keras-tuner\n",
      "  Obtaining dependency information for keras-tuner from https://files.pythonhosted.org/packages/2b/39/21f819fcda657c37519cf817ca1cd03a8a025262aad360876d2a971d38b3/keras_tuner-1.4.6-py3-none-any.whl.metadata\n",
      "  Downloading keras_tuner-1.4.6-py3-none-any.whl.metadata (5.4 kB)\n",
      "Requirement already satisfied: keras in c:\\users\\sravan kumar\\anaconda3\\lib\\site-packages (from keras-tuner) (2.14.0)\n",
      "Requirement already satisfied: packaging in c:\\users\\sravan kumar\\anaconda3\\lib\\site-packages (from keras-tuner) (23.0)\n",
      "Requirement already satisfied: requests in c:\\users\\sravan kumar\\anaconda3\\lib\\site-packages (from keras-tuner) (2.31.0)\n",
      "Collecting kt-legacy (from keras-tuner)\n",
      "  Downloading kt_legacy-1.0.5-py3-none-any.whl (9.6 kB)\n",
      "Requirement already satisfied: charset-normalizer<4,>=2 in c:\\users\\sravan kumar\\anaconda3\\lib\\site-packages (from requests->keras-tuner) (2.0.4)\n",
      "Requirement already satisfied: idna<4,>=2.5 in c:\\users\\sravan kumar\\anaconda3\\lib\\site-packages (from requests->keras-tuner) (3.4)\n",
      "Requirement already satisfied: urllib3<3,>=1.21.1 in c:\\users\\sravan kumar\\anaconda3\\lib\\site-packages (from requests->keras-tuner) (1.26.16)\n",
      "Requirement already satisfied: certifi>=2017.4.17 in c:\\users\\sravan kumar\\anaconda3\\lib\\site-packages (from requests->keras-tuner) (2023.7.22)\n",
      "Downloading keras_tuner-1.4.6-py3-none-any.whl (128 kB)\n",
      "   ---------------------------------------- 0.0/128.9 kB ? eta -:--:--\n",
      "   -------------------------------------- - 122.9/128.9 kB 3.6 MB/s eta 0:00:01\n",
      "   ---------------------------------------- 128.9/128.9 kB 2.5 MB/s eta 0:00:00\n",
      "Installing collected packages: kt-legacy, keras-tuner\n",
      "Successfully installed keras-tuner-1.4.6 kt-legacy-1.0.5\n",
      "Note: you may need to restart the kernel to use updated packages.\n"
     ]
    }
   ],
   "source": [
    "pip install keras-tuner"
   ]
  },
  {
   "cell_type": "code",
   "execution_count": 9,
   "id": "f8c49411",
   "metadata": {},
   "outputs": [
    {
     "name": "stderr",
     "output_type": "stream",
     "text": [
      "C:\\Users\\Sravan Kumar\\AppData\\Local\\Temp\\ipykernel_17764\\781521953.py:2: DeprecationWarning: `import kerastuner` is deprecated, please use `import keras_tuner`.\n",
      "  from kerastuner.tuners import Hyperband\n"
     ]
    }
   ],
   "source": [
    "import keras_tuner\n",
    "from kerastuner.tuners import Hyperband"
   ]
  },
  {
   "cell_type": "code",
   "execution_count": 10,
   "id": "0e96b74b",
   "metadata": {},
   "outputs": [],
   "source": [
    "import tensorflow as tf\n",
    "from tensorflow import keras\n",
    "from tensorflow.keras import layers\n",
    "from kerastuner.engine.hyperparameters import HyperParameter"
   ]
  },
  {
   "cell_type": "code",
   "execution_count": 13,
   "id": "5f380b04",
   "metadata": {},
   "outputs": [
    {
     "name": "stdout",
     "output_type": "stream",
     "text": [
      "Trial 30 Complete [00h 00m 54s]\n",
      "val_accuracy: 0.9562000036239624\n",
      "\n",
      "Best val_accuracy So Far: 0.978600025177002\n",
      "Total elapsed time: 00h 13m 13s\n",
      "Epoch 1/5\n",
      "1875/1875 [==============================] - 8s 4ms/step - loss: 0.3859 - accuracy: 0.8849 - val_loss: 0.1400 - val_accuracy: 0.9577\n",
      "Epoch 2/5\n",
      "1875/1875 [==============================] - 7s 4ms/step - loss: 0.1852 - accuracy: 0.9472 - val_loss: 0.1037 - val_accuracy: 0.9705\n",
      "Epoch 3/5\n",
      "1875/1875 [==============================] - 7s 4ms/step - loss: 0.1454 - accuracy: 0.9579 - val_loss: 0.0926 - val_accuracy: 0.9710\n",
      "Epoch 4/5\n",
      "1875/1875 [==============================] - 7s 4ms/step - loss: 0.1258 - accuracy: 0.9636 - val_loss: 0.0811 - val_accuracy: 0.9746\n",
      "Epoch 5/5\n",
      "1875/1875 [==============================] - 7s 4ms/step - loss: 0.1097 - accuracy: 0.9680 - val_loss: 0.0818 - val_accuracy: 0.9757\n"
     ]
    },
    {
     "data": {
      "text/plain": [
       "<keras.src.callbacks.History at 0x19a18c129d0>"
      ]
     },
     "execution_count": 13,
     "metadata": {},
     "output_type": "execute_result"
    }
   ],
   "source": [
    "(x_train, y_train), (x_test, y_test) = keras.datasets.mnist.load_data()\n",
    "x_train, x_test = x_train / 255.0, x_test / 255.0\n",
    "\n",
    "def build_model(hp):\n",
    "    model = keras.Sequential()\n",
    "    model.add(layers.Flatten(input_shape=(28, 28)))\n",
    "    \n",
    "    for i in range(hp.Int('num_layers', 1, 3)):\n",
    "        model.add(layers.Dense(units=hp.Int(f'units_{i}', 32, 128, step=32), activation='relu'))\n",
    "        model.add(layers.Dropout(0.2))\n",
    "\n",
    "    model.add(layers.Dense(10, activation='softmax'))\n",
    "\n",
    "    model.compile(\n",
    "        optimizer=keras.optimizers.Adam(learning_rate=hp.Choice('learning_rate', values=[1e-2, 1e-3, 1e-4])),\n",
    "        loss='sparse_categorical_crossentropy',\n",
    "        metrics=['accuracy']\n",
    "    )\n",
    "\n",
    "    return model\n",
    "\n",
    "tuner = Hyperband(\n",
    "    build_model,\n",
    "    objective='val_accuracy',\n",
    "    max_epochs=10,\n",
    "    factor=3,\n",
    "    directory='keras_tuner_dir',\n",
    "    project_name='mnist_hyperband'\n",
    ")\n",
    "\n",
    "tuner.search(x_train, y_train, epochs=10, validation_data=(x_test,y_test))\n",
    "\n",
    "best_hps = tuner.get_best_hyperparameters(num_trials=1)[0]\n",
    "\n",
    "best_model = tuner.hypermodel.build(best_hps)\n",
    "\n",
    "best_model.fit(x_train, y_train, epochs=10, validation_data=(x_test,y_test))"
   ]
  },
  {
   "cell_type": "code",
   "execution_count": null,
   "id": "773ed1bf",
   "metadata": {},
   "outputs": [],
   "source": []
  }
 ],
 "metadata": {
  "kernelspec": {
   "display_name": "Python 3 (ipykernel)",
   "language": "python",
   "name": "python3"
  },
  "language_info": {
   "codemirror_mode": {
    "name": "ipython",
    "version": 3
   },
   "file_extension": ".py",
   "mimetype": "text/x-python",
   "name": "python",
   "nbconvert_exporter": "python",
   "pygments_lexer": "ipython3",
   "version": "3.11.4"
  }
 },
 "nbformat": 4,
 "nbformat_minor": 5
}
