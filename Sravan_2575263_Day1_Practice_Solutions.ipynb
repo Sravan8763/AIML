{
 "cells": [
  {
   "cell_type": "markdown",
   "id": "1f9bb800",
   "metadata": {},
   "source": [
    "# 1. Manipulate using a list"
   ]
  },
  {
   "cell_type": "code",
   "execution_count": 1,
   "id": "f8b4197b",
   "metadata": {},
   "outputs": [
    {
     "data": {
      "text/plain": [
       "['2', '5', '7', '5', '2', '6', '3']"
      ]
     },
     "execution_count": 1,
     "metadata": {},
     "output_type": "execute_result"
    }
   ],
   "source": [
    "# to add new elements to end of the list\n",
    "\n",
    "List=['2','5','7','5','2','6','3']\n",
    "List"
   ]
  },
  {
   "cell_type": "code",
   "execution_count": 2,
   "id": "bf5ab2f4",
   "metadata": {},
   "outputs": [],
   "source": [
    "List.append('9') # 9 is added in the list by using append"
   ]
  },
  {
   "cell_type": "code",
   "execution_count": 3,
   "id": "dc035f40",
   "metadata": {},
   "outputs": [
    {
     "data": {
      "text/plain": [
       "['2', '5', '7', '5', '2', '6', '3', '9']"
      ]
     },
     "execution_count": 3,
     "metadata": {},
     "output_type": "execute_result"
    }
   ],
   "source": [
    "List"
   ]
  },
  {
   "cell_type": "code",
   "execution_count": 4,
   "id": "9123ad84",
   "metadata": {},
   "outputs": [],
   "source": [
    "List.extend('10')  # 10 is added in the list by using extend\n"
   ]
  },
  {
   "cell_type": "code",
   "execution_count": 5,
   "id": "df258748",
   "metadata": {},
   "outputs": [
    {
     "data": {
      "text/plain": [
       "['2', '5', '7', '5', '2', '6', '3', '9', '1', '0']"
      ]
     },
     "execution_count": 5,
     "metadata": {},
     "output_type": "execute_result"
    }
   ],
   "source": [
    "List"
   ]
  },
  {
   "cell_type": "code",
   "execution_count": 6,
   "id": "d5d5aa5e",
   "metadata": {},
   "outputs": [
    {
     "name": "stdout",
     "output_type": "stream",
     "text": [
      "<built-in method reverse of list object at 0x000001971CCAFAC0>\n"
     ]
    }
   ],
   "source": [
    "# to reverse elements in the list:\n",
    "List.reverse()\n",
    "print(List.reverse)"
   ]
  },
  {
   "cell_type": "code",
   "execution_count": 7,
   "id": "60bdfd49",
   "metadata": {},
   "outputs": [
    {
     "data": {
      "text/plain": [
       "['0', '1', '9', '3', '6', '2', '5', '7', '5', '2']"
      ]
     },
     "execution_count": 7,
     "metadata": {},
     "output_type": "execute_result"
    }
   ],
   "source": [
    "List"
   ]
  },
  {
   "cell_type": "code",
   "execution_count": 8,
   "id": "7930c2b0",
   "metadata": {},
   "outputs": [
    {
     "name": "stdout",
     "output_type": "stream",
     "text": [
      "['2', '5', '7', '5', '2', '6', '3', '9', '1', '0']\n"
     ]
    }
   ],
   "source": [
    "# to reverse elements in the list:\n",
    "List.reverse()\n",
    "print(List)"
   ]
  },
  {
   "cell_type": "code",
   "execution_count": 9,
   "id": "a9d74c70",
   "metadata": {},
   "outputs": [
    {
     "data": {
      "text/plain": [
       "['2', '5', '7', '5', '2', '6', '3', '9', '1', '0']"
      ]
     },
     "execution_count": 9,
     "metadata": {},
     "output_type": "execute_result"
    }
   ],
   "source": [
    "List"
   ]
  },
  {
   "cell_type": "code",
   "execution_count": 10,
   "id": "6d14d800",
   "metadata": {},
   "outputs": [],
   "source": [
    "List.reverse() # used to reverse the elements"
   ]
  },
  {
   "cell_type": "code",
   "execution_count": 11,
   "id": "d4954126",
   "metadata": {},
   "outputs": [
    {
     "data": {
      "text/plain": [
       "['0', '1', '9', '3', '6', '2', '5', '7', '5', '2']"
      ]
     },
     "execution_count": 11,
     "metadata": {},
     "output_type": "execute_result"
    }
   ],
   "source": [
    "List"
   ]
  },
  {
   "cell_type": "code",
   "execution_count": 12,
   "id": "40b4af3a",
   "metadata": {},
   "outputs": [
    {
     "data": {
      "text/plain": [
       "['0', '1', '9', '3', '6', '2', '5', '7', '5', '2']"
      ]
     },
     "execution_count": 12,
     "metadata": {},
     "output_type": "execute_result"
    }
   ],
   "source": [
    "# to display the same list of elements multiple times :\n",
    "List"
   ]
  },
  {
   "cell_type": "code",
   "execution_count": 14,
   "id": "c48716cd",
   "metadata": {},
   "outputs": [
    {
     "ename": "NameError",
     "evalue": "name 'repeated' is not defined",
     "output_type": "error",
     "traceback": [
      "\u001b[1;31m---------------------------------------------------------------------------\u001b[0m",
      "\u001b[1;31mNameError\u001b[0m                                 Traceback (most recent call last)",
      "Cell \u001b[1;32mIn[14], line 1\u001b[0m\n\u001b[1;32m----> 1\u001b[0m repeated\u001b[38;5;241m.\u001b[39mList\u001b[38;5;241m=\u001b[39m List \u001b[38;5;241m*\u001b[39m\u001b[38;5;241m2\u001b[39m \u001b[38;5;66;03m# used to repeat the elements 2 times\u001b[39;00m\n\u001b[0;32m      2\u001b[0m \u001b[38;5;28mprint\u001b[39m(repeated\u001b[38;5;241m.\u001b[39mList)\n",
      "\u001b[1;31mNameError\u001b[0m: name 'repeated' is not defined"
     ]
    }
   ],
   "source": [
    "repeated_List= List *2 # used to repeat the elements 2 times\n",
    "print(repeated.List)"
   ]
  },
  {
   "cell_type": "code",
   "execution_count": 15,
   "id": "b300a371",
   "metadata": {},
   "outputs": [
    {
     "name": "stdout",
     "output_type": "stream",
     "text": [
      "['0', '1', '9', '3', '6', '2', '5', '7', '5', '2', '0', '1', '9', '3', '6', '2', '5', '7', '5', '2']\n"
     ]
    }
   ],
   "source": [
    "repeated_List= List *2 # used to repeat the elements 2 times\n",
    "print(repeated_List)"
   ]
  },
  {
   "cell_type": "code",
   "execution_count": 17,
   "id": "d979b619",
   "metadata": {},
   "outputs": [],
   "source": [
    "# to concatenate two list:\n",
    "\n",
    "List_1=['34','67','45','98']\n",
    "List_2=['39','24','09','878']"
   ]
  },
  {
   "cell_type": "code",
   "execution_count": 18,
   "id": "368c523b",
   "metadata": {},
   "outputs": [],
   "source": [
    "concate_list= List_1 + List_2"
   ]
  },
  {
   "cell_type": "code",
   "execution_count": 19,
   "id": "2f6df400",
   "metadata": {},
   "outputs": [
    {
     "name": "stdout",
     "output_type": "stream",
     "text": [
      "['34', '67', '45', '98', '39', '24', '09', '878']\n"
     ]
    }
   ],
   "source": [
    "print(concate_list)"
   ]
  },
  {
   "cell_type": "code",
   "execution_count": 20,
   "id": "07b526c6",
   "metadata": {},
   "outputs": [],
   "source": [
    "# to sort the elements in the list in ascending order:\n",
    "List=[1,3,5,779,245,977,14625,98,2,78,9]"
   ]
  },
  {
   "cell_type": "code",
   "execution_count": 21,
   "id": "41fed573",
   "metadata": {},
   "outputs": [
    {
     "data": {
      "text/plain": [
       "[1, 2, 3, 5, 9, 78, 98, 245, 779, 977, 14625]"
      ]
     },
     "execution_count": 21,
     "metadata": {},
     "output_type": "execute_result"
    }
   ],
   "source": [
    "List.sort()\n",
    "List"
   ]
  },
  {
   "cell_type": "code",
   "execution_count": 22,
   "id": "4853143d",
   "metadata": {},
   "outputs": [
    {
     "data": {
      "text/plain": [
       "[1, 2, 3, 5, 9, 78, 98, 245, 779, 977, 14625]"
      ]
     },
     "execution_count": 22,
     "metadata": {},
     "output_type": "execute_result"
    }
   ],
   "source": [
    "List"
   ]
  },
  {
   "cell_type": "markdown",
   "id": "98383bd5",
   "metadata": {},
   "source": [
    "# 2. Write a Python program to do in the tuples."
   ]
  },
  {
   "cell_type": "code",
   "execution_count": 27,
   "id": "527cc615",
   "metadata": {},
   "outputs": [
    {
     "ename": "TypeError",
     "evalue": "tuple.count() takes exactly one argument (0 given)",
     "output_type": "error",
     "traceback": [
      "\u001b[1;31m---------------------------------------------------------------------------\u001b[0m",
      "\u001b[1;31mTypeError\u001b[0m                                 Traceback (most recent call last)",
      "Cell \u001b[1;32mIn[27], line 3\u001b[0m\n\u001b[0;32m      1\u001b[0m \u001b[38;5;66;03m# manipulate using tuples\u001b[39;00m\n\u001b[0;32m      2\u001b[0m tuple1\u001b[38;5;241m=\u001b[39m(\u001b[38;5;241m2.4\u001b[39m,\u001b[38;5;241m6\u001b[39m,\u001b[38;5;241m8\u001b[39m,\u001b[38;5;241m10\u001b[39m)\n\u001b[1;32m----> 3\u001b[0m tuple1\u001b[38;5;241m.\u001b[39mcount()\n",
      "\u001b[1;31mTypeError\u001b[0m: tuple.count() takes exactly one argument (0 given)"
     ]
    }
   ],
   "source": [
    "# manipulate using tuples\n",
    "tuple1=(2,4,6,8,10)\n",
    "tuple1.count()"
   ]
  },
  {
   "cell_type": "code",
   "execution_count": 31,
   "id": "0bda75f6",
   "metadata": {},
   "outputs": [
    {
     "data": {
      "text/plain": [
       "(2, 4, 6, 8, 10, 1, 3, 5, 7, 9)"
      ]
     },
     "execution_count": 31,
     "metadata": {},
     "output_type": "execute_result"
    }
   ],
   "source": [
    "# add new elements end of the tuple\n",
    "tuple1=(2,4,6,8,10)\n",
    "tup= tuple1 + (1,3,5,7,9)\n",
    "tup"
   ]
  },
  {
   "cell_type": "markdown",
   "id": "fd0b2707",
   "metadata": {},
   "source": [
    "tuple2"
   ]
  },
  {
   "cell_type": "code",
   "execution_count": 30,
   "id": "f5791fa6",
   "metadata": {},
   "outputs": [
    {
     "data": {
      "text/plain": [
       "(1, 3, 5, 7)"
      ]
     },
     "execution_count": 30,
     "metadata": {},
     "output_type": "execute_result"
    }
   ],
   "source": [
    "tuple2"
   ]
  },
  {
   "cell_type": "code",
   "execution_count": 32,
   "id": "2dd23b4f",
   "metadata": {},
   "outputs": [
    {
     "data": {
      "text/plain": [
       "(2, 4, 6, 8, 10, 1, 3, 5, 7, 9)"
      ]
     },
     "execution_count": 32,
     "metadata": {},
     "output_type": "execute_result"
    }
   ],
   "source": [
    "tup"
   ]
  },
  {
   "cell_type": "code",
   "execution_count": 33,
   "id": "23d4094f",
   "metadata": {},
   "outputs": [
    {
     "data": {
      "text/plain": [
       "(9, 7, 5, 3, 1, 10, 8, 6, 4, 2)"
      ]
     },
     "execution_count": 33,
     "metadata": {},
     "output_type": "execute_result"
    }
   ],
   "source": [
    "# to reverse elements in the list\n",
    "tup[::-1]\n"
   ]
  },
  {
   "cell_type": "code",
   "execution_count": 35,
   "id": "a515f31a",
   "metadata": {},
   "outputs": [
    {
     "data": {
      "text/plain": [
       "(2, 4, 6, 8, 10, 1, 3, 5, 7, 9, 2, 4, 6, 8, 10, 1, 3, 5, 7, 9)"
      ]
     },
     "execution_count": 35,
     "metadata": {},
     "output_type": "execute_result"
    }
   ],
   "source": [
    "#to display the elements of the same tuple multiple times\n",
    "tup*2"
   ]
  },
  {
   "cell_type": "code",
   "execution_count": 36,
   "id": "2a59c130",
   "metadata": {},
   "outputs": [
    {
     "data": {
      "text/plain": [
       "(2, 4, 6, 8, 10, 1, 3, 5, 7, 9)"
      ]
     },
     "execution_count": 36,
     "metadata": {},
     "output_type": "execute_result"
    }
   ],
   "source": [
    "# to concatenate two tuples\n",
    "tuple1=(2,4,6,8,10)\n",
    "tuple2=(1,3,5,7,9)\n",
    "concated_tuple= tuple1 + tuple2\n",
    "concated_tuple"
   ]
  },
  {
   "cell_type": "code",
   "execution_count": 37,
   "id": "7a1076ca",
   "metadata": {},
   "outputs": [
    {
     "data": {
      "text/plain": [
       "(2, 4, 6, 8, 10, 1, 3, 5, 7, 9)"
      ]
     },
     "execution_count": 37,
     "metadata": {},
     "output_type": "execute_result"
    }
   ],
   "source": [
    "tup"
   ]
  },
  {
   "cell_type": "code",
   "execution_count": 38,
   "id": "959c36e5",
   "metadata": {},
   "outputs": [
    {
     "ename": "AttributeError",
     "evalue": "'tuple' object has no attribute 'sort'",
     "output_type": "error",
     "traceback": [
      "\u001b[1;31m---------------------------------------------------------------------------\u001b[0m",
      "\u001b[1;31mAttributeError\u001b[0m                            Traceback (most recent call last)",
      "Cell \u001b[1;32mIn[38], line 3\u001b[0m\n\u001b[0;32m      1\u001b[0m \u001b[38;5;66;03m#to sort the elements inthe ascending order\u001b[39;00m\n\u001b[1;32m----> 3\u001b[0m tup\u001b[38;5;241m.\u001b[39msort()\n\u001b[0;32m      4\u001b[0m tup\n",
      "\u001b[1;31mAttributeError\u001b[0m: 'tuple' object has no attribute 'sort'"
     ]
    }
   ],
   "source": [
    "#to sort the elements inthe ascending order\n",
    "\n",
    "tup.sort()\n",
    "tup"
   ]
  },
  {
   "cell_type": "code",
   "execution_count": 42,
   "id": "2adc8b5b",
   "metadata": {},
   "outputs": [
    {
     "data": {
      "text/plain": [
       "(1, 2, 3, 4, 5, 6, 7, 8, 9, 10)"
      ]
     },
     "execution_count": 42,
     "metadata": {},
     "output_type": "execute_result"
    }
   ],
   "source": [
    "tuple(sorted(tup))"
   ]
  },
  {
   "cell_type": "code",
   "execution_count": 44,
   "id": "22d71cd8",
   "metadata": {},
   "outputs": [],
   "source": [
    "list(tup).sort()"
   ]
  },
  {
   "cell_type": "code",
   "execution_count": 40,
   "id": "4c3f70f1",
   "metadata": {},
   "outputs": [
    {
     "ename": "NameError",
     "evalue": "name 'sort' is not defined",
     "output_type": "error",
     "traceback": [
      "\u001b[1;31m---------------------------------------------------------------------------\u001b[0m",
      "\u001b[1;31mNameError\u001b[0m                                 Traceback (most recent call last)",
      "Cell \u001b[1;32mIn[40], line 1\u001b[0m\n\u001b[1;32m----> 1\u001b[0m \u001b[38;5;28mtuple\u001b[39m(sort(tup))\n",
      "\u001b[1;31mNameError\u001b[0m: name 'sort' is not defined"
     ]
    }
   ],
   "source": [
    "tuple(sort(tup))"
   ]
  },
  {
   "cell_type": "code",
   "execution_count": 45,
   "id": "27fd3b8f",
   "metadata": {},
   "outputs": [
    {
     "data": {
      "text/plain": [
       "(2, 4, 6, 8, 10, 1, 3, 5, 7, 9)"
      ]
     },
     "execution_count": 45,
     "metadata": {},
     "output_type": "execute_result"
    }
   ],
   "source": [
    "tup"
   ]
  },
  {
   "cell_type": "markdown",
   "id": "d72b127f",
   "metadata": {},
   "source": [
    "# 3. Write a python program to implement the follwing using list"
   ]
  },
  {
   "cell_type": "code",
   "execution_count": null,
   "id": "95c0c058",
   "metadata": {},
   "outputs": [],
   "source": [
    "# create a list with integers (Minimum 10 numbers)"
   ]
  },
  {
   "cell_type": "code",
   "execution_count": 46,
   "id": "b1d9f7c7",
   "metadata": {},
   "outputs": [
    {
     "data": {
      "text/plain": [
       "[23, 56, 77, 98, 45, 17, 89, 65, 43, 29]"
      ]
     },
     "execution_count": 46,
     "metadata": {},
     "output_type": "execute_result"
    }
   ],
   "source": [
    "list=[23,56,77,98,45,17,89,65,43,29]\n",
    "list"
   ]
  },
  {
   "cell_type": "code",
   "execution_count": 47,
   "id": "279634d4",
   "metadata": {},
   "outputs": [
    {
     "data": {
      "text/plain": [
       "[23, 56, 77, 98, 45, 17, 89, 65, 43]"
      ]
     },
     "execution_count": 47,
     "metadata": {},
     "output_type": "execute_result"
    }
   ],
   "source": [
    "#how to display the last number in the list\n",
    "list[:-1]"
   ]
  },
  {
   "cell_type": "code",
   "execution_count": 48,
   "id": "922e419b",
   "metadata": {},
   "outputs": [
    {
     "data": {
      "text/plain": [
       "29"
      ]
     },
     "execution_count": 48,
     "metadata": {},
     "output_type": "execute_result"
    }
   ],
   "source": [
    "list[-1]"
   ]
  },
  {
   "cell_type": "code",
   "execution_count": 49,
   "id": "b3336d41",
   "metadata": {},
   "outputs": [
    {
     "data": {
      "text/plain": [
       "[23, 56, 77, 98]"
      ]
     },
     "execution_count": 49,
     "metadata": {},
     "output_type": "execute_result"
    }
   ],
   "source": [
    "#displaying values from the list[0:4]\n",
    "list[0:4]"
   ]
  },
  {
   "cell_type": "code",
   "execution_count": 50,
   "id": "9a146d86",
   "metadata": {},
   "outputs": [
    {
     "data": {
      "text/plain": [
       "[77, 98, 45, 17, 89, 65, 43, 29]"
      ]
     },
     "execution_count": 50,
     "metadata": {},
     "output_type": "execute_result"
    }
   ],
   "source": [
    "#displaying values from the list[2:]\n",
    "list[2:]\n"
   ]
  },
  {
   "cell_type": "code",
   "execution_count": 51,
   "id": "7f4f0c07",
   "metadata": {},
   "outputs": [
    {
     "data": {
      "text/plain": [
       "[23, 56, 77, 98, 45, 17]"
      ]
     },
     "execution_count": 51,
     "metadata": {},
     "output_type": "execute_result"
    }
   ],
   "source": [
    "#displaying values from the list[:6]\n",
    "list[:6]"
   ]
  },
  {
   "cell_type": "code",
   "execution_count": 52,
   "id": "d7547361",
   "metadata": {},
   "outputs": [
    {
     "data": {
      "text/plain": [
       "[23, 56, 77, 98, 45, 17]"
      ]
     },
     "execution_count": 52,
     "metadata": {},
     "output_type": "execute_result"
    }
   ],
   "source": [
    "list[0:6]"
   ]
  },
  {
   "cell_type": "markdown",
   "id": "3441bd34",
   "metadata": {},
   "source": [
    "# 4. Write a python program tuple1=(10,50,20,40,30)"
   ]
  },
  {
   "cell_type": "code",
   "execution_count": 53,
   "id": "88c60d9d",
   "metadata": {},
   "outputs": [
    {
     "data": {
      "text/plain": [
       "(10, 50)"
      ]
     },
     "execution_count": 53,
     "metadata": {},
     "output_type": "execute_result"
    }
   ],
   "source": [
    "#to dsiplay the elements 10 and 50 from tuple1\n",
    "t1=(10,50,20,40,30)\n",
    "t1[:2]"
   ]
  },
  {
   "cell_type": "code",
   "execution_count": 54,
   "id": "838dd135",
   "metadata": {},
   "outputs": [
    {
     "ename": "AttributeError",
     "evalue": "'tuple' object has no attribute 'length'",
     "output_type": "error",
     "traceback": [
      "\u001b[1;31m---------------------------------------------------------------------------\u001b[0m",
      "\u001b[1;31mAttributeError\u001b[0m                            Traceback (most recent call last)",
      "Cell \u001b[1;32mIn[54], line 2\u001b[0m\n\u001b[0;32m      1\u001b[0m \u001b[38;5;66;03m# to display the length of the tuple1\u001b[39;00m\n\u001b[1;32m----> 2\u001b[0m t1\u001b[38;5;241m.\u001b[39mlength()\n",
      "\u001b[1;31mAttributeError\u001b[0m: 'tuple' object has no attribute 'length'"
     ]
    }
   ],
   "source": [
    "# to display the length of the tuple1\n",
    "t1.length()"
   ]
  },
  {
   "cell_type": "code",
   "execution_count": 55,
   "id": "87f46a23",
   "metadata": {},
   "outputs": [
    {
     "data": {
      "text/plain": [
       "5"
      ]
     },
     "execution_count": 55,
     "metadata": {},
     "output_type": "execute_result"
    }
   ],
   "source": [
    "len(t1)"
   ]
  },
  {
   "cell_type": "code",
   "execution_count": 56,
   "id": "e1b2e229",
   "metadata": {},
   "outputs": [
    {
     "data": {
      "text/plain": [
       "10"
      ]
     },
     "execution_count": 56,
     "metadata": {},
     "output_type": "execute_result"
    }
   ],
   "source": [
    "#to find the minimum element from tuple\n",
    "min(t1)"
   ]
  },
  {
   "cell_type": "code",
   "execution_count": 57,
   "id": "45fa525d",
   "metadata": {},
   "outputs": [
    {
     "data": {
      "text/plain": [
       "150"
      ]
     },
     "execution_count": 57,
     "metadata": {},
     "output_type": "execute_result"
    }
   ],
   "source": [
    "#to add all the elements\n",
    "sum(t1)"
   ]
  },
  {
   "cell_type": "code",
   "execution_count": 58,
   "id": "a9b81704",
   "metadata": {},
   "outputs": [
    {
     "data": {
      "text/plain": [
       "(10, 50, 20, 40, 30, 10, 50, 20, 40, 30)"
      ]
     },
     "execution_count": 58,
     "metadata": {},
     "output_type": "execute_result"
    }
   ],
   "source": [
    "#to display the same tuple1 multiple time\n",
    "\n",
    "t1*2 "
   ]
  },
  {
   "cell_type": "markdown",
   "id": "b95ab85c",
   "metadata": {},
   "source": [
    "# 5. Write a python program."
   ]
  },
  {
   "cell_type": "code",
   "execution_count": 59,
   "id": "ac9363fd",
   "metadata": {},
   "outputs": [
    {
     "data": {
      "text/plain": [
       "'Balijepalli Sravan Kumar'"
      ]
     },
     "execution_count": 59,
     "metadata": {},
     "output_type": "execute_result"
    }
   ],
   "source": [
    "#i length of the string \n",
    "S='Balijepalli Sravan Kumar'\n",
    "S"
   ]
  },
  {
   "cell_type": "code",
   "execution_count": 60,
   "id": "88f96ef9",
   "metadata": {},
   "outputs": [
    {
     "data": {
      "text/plain": [
       "24"
      ]
     },
     "execution_count": 60,
     "metadata": {},
     "output_type": "execute_result"
    }
   ],
   "source": [
    "len(S)"
   ]
  },
  {
   "cell_type": "markdown",
   "id": "f43f4f6f",
   "metadata": {},
   "source": [
    "j\n"
   ]
  },
  {
   "cell_type": "code",
   "execution_count": 61,
   "id": "39228f77",
   "metadata": {},
   "outputs": [
    {
     "ename": "AttributeError",
     "evalue": "'str' object has no attribute 'reverse'",
     "output_type": "error",
     "traceback": [
      "\u001b[1;31m---------------------------------------------------------------------------\u001b[0m",
      "\u001b[1;31mAttributeError\u001b[0m                            Traceback (most recent call last)",
      "Cell \u001b[1;32mIn[61], line 1\u001b[0m\n\u001b[1;32m----> 1\u001b[0m S\u001b[38;5;241m.\u001b[39mreverse()\n",
      "\u001b[1;31mAttributeError\u001b[0m: 'str' object has no attribute 'reverse'"
     ]
    }
   ],
   "source": [
    "S.reverse()"
   ]
  },
  {
   "cell_type": "code",
   "execution_count": 62,
   "id": "b5497a15",
   "metadata": {},
   "outputs": [
    {
     "ename": "NameError",
     "evalue": "name 'reverse' is not defined",
     "output_type": "error",
     "traceback": [
      "\u001b[1;31m---------------------------------------------------------------------------\u001b[0m",
      "\u001b[1;31mNameError\u001b[0m                                 Traceback (most recent call last)",
      "Cell \u001b[1;32mIn[62], line 1\u001b[0m\n\u001b[1;32m----> 1\u001b[0m reverse(S)\n",
      "\u001b[1;31mNameError\u001b[0m: name 'reverse' is not defined"
     ]
    }
   ],
   "source": [
    "reverse(S)"
   ]
  },
  {
   "cell_type": "code",
   "execution_count": 63,
   "id": "4edd880c",
   "metadata": {},
   "outputs": [
    {
     "data": {
      "text/plain": [
       "'ramuK navarS illapejilaB'"
      ]
     },
     "execution_count": 63,
     "metadata": {},
     "output_type": "execute_result"
    }
   ],
   "source": [
    "#2\n",
    "S[::-1]"
   ]
  },
  {
   "cell_type": "code",
   "execution_count": 69,
   "id": "66520ee0",
   "metadata": {},
   "outputs": [
    {
     "data": {
      "text/plain": [
       "'Balijepalli Sravan KumarBalijepalli Sravan KumarBalijepalli Sravan KumarBalijepalli Sravan Kumar'"
      ]
     },
     "execution_count": 69,
     "metadata": {},
     "output_type": "execute_result"
    }
   ],
   "source": [
    "#3\n",
    "S *4"
   ]
  },
  {
   "cell_type": "code",
   "execution_count": 71,
   "id": "5b308787",
   "metadata": {},
   "outputs": [
    {
     "data": {
      "text/plain": [
       "'Hello Balijepalli Sravan Kumar'"
      ]
     },
     "execution_count": 71,
     "metadata": {},
     "output_type": "execute_result"
    }
   ],
   "source": [
    "#4\n",
    "S1='Hello'\n",
    "result = S1+\" \" + S\n",
    "result"
   ]
  },
  {
   "cell_type": "code",
   "execution_count": 74,
   "id": "14391520",
   "metadata": {},
   "outputs": [
    {
     "data": {
      "text/plain": [
       "'India'"
      ]
     },
     "execution_count": 74,
     "metadata": {},
     "output_type": "execute_result"
    }
   ],
   "source": [
    "#5\n",
    "Str1= \"South India\"\n",
    "Str1[6:11]"
   ]
  },
  {
   "cell_type": "markdown",
   "id": "fd0a068c",
   "metadata": {},
   "source": [
    "# 6. Perform the following"
   ]
  },
  {
   "cell_type": "code",
   "execution_count": 76,
   "id": "e371e780",
   "metadata": {},
   "outputs": [],
   "source": [
    "#1 Creating dictonary\n",
    "s_dict={'Name': 'Sravan Kumar', 'Employee Id': '2575263', 'Domain': 'AIML'}"
   ]
  },
  {
   "cell_type": "code",
   "execution_count": 77,
   "id": "209f5ea9",
   "metadata": {},
   "outputs": [
    {
     "data": {
      "text/plain": [
       "{'Name': 'Sravan Kumar', 'Employee Id': '2575263', 'Domain': 'AIML'}"
      ]
     },
     "execution_count": 77,
     "metadata": {},
     "output_type": "execute_result"
    }
   ],
   "source": [
    "s_dict"
   ]
  },
  {
   "cell_type": "code",
   "execution_count": 78,
   "id": "21842920",
   "metadata": {},
   "outputs": [
    {
     "data": {
      "text/plain": [
       "dict_items([('Name', 'Sravan Kumar'), ('Employee Id', '2575263'), ('Domain', 'AIML')])"
      ]
     },
     "execution_count": 78,
     "metadata": {},
     "output_type": "execute_result"
    }
   ],
   "source": [
    "#2 accesing values\n",
    "s_dict.items()"
   ]
  },
  {
   "cell_type": "code",
   "execution_count": 79,
   "id": "4a51116d",
   "metadata": {},
   "outputs": [
    {
     "ename": "SyntaxError",
     "evalue": "invalid syntax (2358885775.py, line 2)",
     "output_type": "error",
     "traceback": [
      "\u001b[1;36m  Cell \u001b[1;32mIn[79], line 2\u001b[1;36m\u001b[0m\n\u001b[1;33m    s_dict.update{'age': '23'}\u001b[0m\n\u001b[1;37m                 ^\u001b[0m\n\u001b[1;31mSyntaxError\u001b[0m\u001b[1;31m:\u001b[0m invalid syntax\n"
     ]
    }
   ],
   "source": [
    "#3 Updating the dictionary using function\n",
    "s_dict.update{'age': '23'}"
   ]
  },
  {
   "cell_type": "code",
   "execution_count": 80,
   "id": "967cbd34",
   "metadata": {},
   "outputs": [],
   "source": [
    "s_dict.update({'age': '23'})"
   ]
  },
  {
   "cell_type": "code",
   "execution_count": 81,
   "id": "2f93a0e5",
   "metadata": {},
   "outputs": [
    {
     "data": {
      "text/plain": [
       "{'Name': 'Sravan Kumar',\n",
       " 'Employee Id': '2575263',\n",
       " 'Domain': 'AIML',\n",
       " 'age': '23'}"
      ]
     },
     "execution_count": 81,
     "metadata": {},
     "output_type": "execute_result"
    }
   ],
   "source": [
    "s_dict"
   ]
  },
  {
   "cell_type": "code",
   "execution_count": 82,
   "id": "2619e56e",
   "metadata": {},
   "outputs": [],
   "source": [
    "# clear and delete\n",
    "s_dict.clear()"
   ]
  },
  {
   "cell_type": "code",
   "execution_count": 83,
   "id": "b4a34ad8",
   "metadata": {},
   "outputs": [
    {
     "data": {
      "text/plain": [
       "{}"
      ]
     },
     "execution_count": 83,
     "metadata": {},
     "output_type": "execute_result"
    }
   ],
   "source": [
    "s_dict"
   ]
  },
  {
   "cell_type": "markdown",
   "id": "efc66241",
   "metadata": {},
   "source": [
    "# 7. Python Program to insert a number to any position in a list"
   ]
  },
  {
   "cell_type": "code",
   "execution_count": 84,
   "id": "c01ac314",
   "metadata": {},
   "outputs": [
    {
     "data": {
      "text/plain": [
       "[2, 4, 6, 8]"
      ]
     },
     "execution_count": 84,
     "metadata": {},
     "output_type": "execute_result"
    }
   ],
   "source": [
    "list=[2,4,6,8]\n",
    "list"
   ]
  },
  {
   "cell_type": "code",
   "execution_count": 85,
   "id": "340e6c25",
   "metadata": {},
   "outputs": [],
   "source": [
    "list.insert(0,1)"
   ]
  },
  {
   "cell_type": "code",
   "execution_count": 86,
   "id": "9a5bf736",
   "metadata": {},
   "outputs": [
    {
     "data": {
      "text/plain": [
       "[1, 2, 4, 6, 8]"
      ]
     },
     "execution_count": 86,
     "metadata": {},
     "output_type": "execute_result"
    }
   ],
   "source": [
    "list"
   ]
  },
  {
   "cell_type": "code",
   "execution_count": 88,
   "id": "472180ae",
   "metadata": {},
   "outputs": [
    {
     "data": {
      "text/plain": [
       "[1, 2, 3, 4, 3, 6, 8]"
      ]
     },
     "execution_count": 88,
     "metadata": {},
     "output_type": "execute_result"
    }
   ],
   "source": [
    "list.insert(2,3)\n",
    "list"
   ]
  },
  {
   "cell_type": "code",
   "execution_count": 89,
   "id": "4fb02b66",
   "metadata": {},
   "outputs": [
    {
     "data": {
      "text/plain": [
       "[1, 2, 3, 4, 3, 6, 8]"
      ]
     },
     "execution_count": 89,
     "metadata": {},
     "output_type": "execute_result"
    }
   ],
   "source": [
    "list"
   ]
  },
  {
   "cell_type": "markdown",
   "id": "8ffad524",
   "metadata": {},
   "source": [
    "# 8. Python Program to delete an element from a list by index"
   ]
  },
  {
   "cell_type": "code",
   "execution_count": 90,
   "id": "e51834b5",
   "metadata": {},
   "outputs": [
    {
     "data": {
      "text/plain": [
       "[1, 2, 3, 4, 7, 5]"
      ]
     },
     "execution_count": 90,
     "metadata": {},
     "output_type": "execute_result"
    }
   ],
   "source": [
    "list=[1,2,3,4,7,5]\n",
    "list"
   ]
  },
  {
   "cell_type": "code",
   "execution_count": 111,
   "id": "c041d5b1",
   "metadata": {},
   "outputs": [
    {
     "ename": "IndexError",
     "evalue": "pop index out of range",
     "output_type": "error",
     "traceback": [
      "\u001b[1;31m---------------------------------------------------------------------------\u001b[0m",
      "\u001b[1;31mIndexError\u001b[0m                                Traceback (most recent call last)",
      "Cell \u001b[1;32mIn[111], line 1\u001b[0m\n\u001b[1;32m----> 1\u001b[0m \u001b[38;5;28mlist\u001b[39m\u001b[38;5;241m.\u001b[39mpop(\u001b[38;5;241m4\u001b[39m)\n",
      "\u001b[1;31mIndexError\u001b[0m: pop index out of range"
     ]
    }
   ],
   "source": [
    "list.pop(4)"
   ]
  },
  {
   "cell_type": "code",
   "execution_count": 112,
   "id": "ff0f70c8",
   "metadata": {},
   "outputs": [
    {
     "data": {
      "text/plain": [
       "['hello', 'Dear', 'hOw', 'ARe']"
      ]
     },
     "execution_count": 112,
     "metadata": {},
     "output_type": "execute_result"
    }
   ],
   "source": [
    "list"
   ]
  },
  {
   "cell_type": "code",
   "execution_count": 113,
   "id": "aa28b4f0",
   "metadata": {},
   "outputs": [
    {
     "data": {
      "text/plain": [
       "[1, 2, 3, 4, 5, 8, 6]"
      ]
     },
     "execution_count": 113,
     "metadata": {},
     "output_type": "execute_result"
    }
   ],
   "source": [
    "list1= [1,2,3,4,5,8,6]\n",
    "list1"
   ]
  },
  {
   "cell_type": "code",
   "execution_count": 98,
   "id": "937bd1ac",
   "metadata": {},
   "outputs": [],
   "source": [
    "list1.remove(6)"
   ]
  },
  {
   "cell_type": "code",
   "execution_count": 99,
   "id": "70df5909",
   "metadata": {},
   "outputs": [
    {
     "data": {
      "text/plain": [
       "[1, 2, 3, 4, 5, 8]"
      ]
     },
     "execution_count": 99,
     "metadata": {},
     "output_type": "execute_result"
    }
   ],
   "source": [
    "list1"
   ]
  },
  {
   "cell_type": "markdown",
   "id": "b385829c",
   "metadata": {},
   "source": [
    "# 9. Write a program to display a number from 1 to 100"
   ]
  },
  {
   "cell_type": "code",
   "execution_count": 106,
   "id": "03adca86",
   "metadata": {},
   "outputs": [
    {
     "name": "stdout",
     "output_type": "stream",
     "text": [
      "1\n",
      "2\n",
      "3\n",
      "4\n",
      "5\n",
      "6\n",
      "7\n",
      "8\n",
      "9\n",
      "10\n",
      "11\n",
      "12\n",
      "13\n",
      "14\n",
      "15\n",
      "16\n",
      "17\n",
      "18\n",
      "19\n",
      "20\n",
      "21\n",
      "22\n",
      "23\n",
      "24\n",
      "25\n",
      "26\n",
      "27\n",
      "28\n",
      "29\n",
      "30\n",
      "31\n",
      "32\n",
      "33\n",
      "34\n",
      "35\n",
      "36\n",
      "37\n",
      "38\n",
      "39\n",
      "40\n",
      "41\n",
      "42\n",
      "43\n",
      "44\n",
      "45\n",
      "46\n",
      "47\n",
      "48\n",
      "49\n",
      "50\n",
      "51\n",
      "52\n",
      "53\n",
      "54\n",
      "55\n",
      "56\n",
      "57\n",
      "58\n",
      "59\n",
      "60\n",
      "61\n",
      "62\n",
      "63\n",
      "64\n",
      "65\n",
      "66\n",
      "67\n",
      "68\n",
      "69\n",
      "70\n",
      "71\n",
      "72\n",
      "73\n",
      "74\n",
      "75\n",
      "76\n",
      "77\n",
      "78\n",
      "79\n",
      "80\n",
      "81\n",
      "82\n",
      "83\n",
      "84\n",
      "85\n",
      "86\n",
      "87\n",
      "88\n",
      "89\n",
      "90\n",
      "91\n",
      "92\n",
      "93\n",
      "94\n",
      "95\n",
      "96\n",
      "97\n",
      "98\n",
      "99\n",
      "100\n"
     ]
    }
   ],
   "source": [
    "for i in range(1, 101):\n",
    "    print(i)\n"
   ]
  },
  {
   "cell_type": "markdown",
   "id": "b9b196d6",
   "metadata": {},
   "source": [
    "# 10. Write a python program to find sum of all items in a tuple"
   ]
  },
  {
   "cell_type": "code",
   "execution_count": 107,
   "id": "b0d5390e",
   "metadata": {},
   "outputs": [
    {
     "data": {
      "text/plain": [
       "55"
      ]
     },
     "execution_count": 107,
     "metadata": {},
     "output_type": "execute_result"
    }
   ],
   "source": [
    "list=(1,2,3,4,5,6,7,8,9,10)\n",
    "sum(list)"
   ]
  },
  {
   "cell_type": "markdown",
   "id": "5f149952",
   "metadata": {},
   "source": [
    "# 11.  Create a dictionary containg three lambda functions square,cube,sqrtroot"
   ]
  },
  {
   "cell_type": "code",
   "execution_count": 7,
   "id": "0a76d4ca",
   "metadata": {},
   "outputs": [
    {
     "name": "stdout",
     "output_type": "stream",
     "text": [
      "Enter the square value: 15\n",
      "Enter the cube value: 20\n",
      "Enter the square root value: 35\n",
      "70\n"
     ]
    }
   ],
   "source": [
    "S=int(input(\"Enter the square value: \"))\n",
    "C=int(input(\"Enter the cube value: \"))\n",
    "SQ=int(input(\"Enter the square root value: \"))\n",
    "dic1={'Square': S, 'Cube': C, 'Square Root':SQ}\n",
    "dic1\n",
    "\n",
    "print(sum(dic1.values()))"
   ]
  },
  {
   "cell_type": "markdown",
   "id": "c92e42b1",
   "metadata": {},
   "source": [
    "# 12. A list of words is given. Find the words the list that have their second character in uppercase"
   ]
  },
  {
   "cell_type": "code",
   "execution_count": 109,
   "id": "d94d936d",
   "metadata": {},
   "outputs": [
    {
     "name": "stdout",
     "output_type": "stream",
     "text": [
      "hOw\n",
      "ARe\n"
     ]
    }
   ],
   "source": [
    "list=['hello', 'Dear', 'hOw', 'ARe', 'You']\n",
    "for i in list:\n",
    "    if i[1].isupper():\n",
    "        print(i)"
   ]
  },
  {
   "cell_type": "markdown",
   "id": "a151aaa7",
   "metadata": {},
   "source": [
    "# 13. A dictionary pf names and their weights on earth is given. Find how much they will weigh on the moon."
   ]
  },
  {
   "cell_type": "code",
   "execution_count": 114,
   "id": "a9d2a745",
   "metadata": {},
   "outputs": [
    {
     "data": {
      "text/plain": [
       "{'john': 45, 'Shelly': 65, 'Marry': 35}"
      ]
     },
     "execution_count": 114,
     "metadata": {},
     "output_type": "execute_result"
    }
   ],
   "source": [
    "weight_on_earth={'john':45, 'Shelly': 65, 'Marry': 35}\n",
    "weight_on_earth"
   ]
  },
  {
   "cell_type": "code",
   "execution_count": 115,
   "id": "03a92b49",
   "metadata": {},
   "outputs": [],
   "source": [
    "weight_on_moon={}\n",
    "for i,j in weight_on_earth.items():\n",
    "    weight_on_moon[i] = ((j*1.622)/9.81)"
   ]
  },
  {
   "cell_type": "code",
   "execution_count": 116,
   "id": "8103ba5a",
   "metadata": {},
   "outputs": [
    {
     "data": {
      "text/plain": [
       "{'john': 7.440366972477065,\n",
       " 'Shelly': 10.747196738022426,\n",
       " 'Marry': 5.786952089704383}"
      ]
     },
     "execution_count": 116,
     "metadata": {},
     "output_type": "execute_result"
    }
   ],
   "source": [
    "weight_on_moon"
   ]
  },
  {
   "cell_type": "markdown",
   "id": "e7f6c4a3",
   "metadata": {},
   "source": [
    "# Control Structures "
   ]
  },
  {
   "cell_type": "code",
   "execution_count": 127,
   "id": "4adcb081",
   "metadata": {},
   "outputs": [
    {
     "name": "stdout",
     "output_type": "stream",
     "text": [
      "Enter N:5\n",
      "Prime numbers are:2 3 5 7 11\n"
     ]
    }
   ],
   "source": [
    "def Prime(n):  \n",
    "    for i in range(2,n//2+1):  \n",
    "        if(n%i==0):  \n",
    "            return(0)  \n",
    "    return(1)  \n",
    "  \n",
    "N=int(input(\"Enter N:\"))  \n",
    "i=2 \n",
    "lst=[] \n",
    "while(1):  \n",
    "    if(Prime(i)):  \n",
    "        lst.append(i) \n",
    "        if(len(lst)==N): \n",
    "            break \n",
    "    i+=1 \n",
    "print( \"Prime numbers are: \",end=\"\") \n",
    "print(*lst) "
   ]
  },
  {
   "cell_type": "code",
   "execution_count": 129,
   "id": "b36f7513",
   "metadata": {},
   "outputs": [
    {
     "name": "stdout",
     "output_type": "stream",
     "text": [
      "Enter the basic salary25000\n",
      "Enter the basic HRA8000\n",
      "Enter the basic TA2200\n",
      "Enter the basic DA1700\n",
      "Gross Salary:  36900\n",
      "tax:  3690.0\n",
      "Net Salary:  33210.0\n"
     ]
    }
   ],
   "source": [
    "#2 Write the python code that calculates the salary the salary of an employee.\n",
    "\n",
    "Basic_salary = int(input(\"Enter the basic salary\"))\n",
    "HRA=  int(input(\"Enter the basic HRA\"))\n",
    "TA= int(input(\"Enter the basic TA\"))\n",
    "DA= int(input(\"Enter the basic DA\"))\n",
    "\n",
    "Gross_salary= Basic_salary+HRA+TA+DA\n",
    "tax= (10/100)*Gross_salary\n",
    "Net_salary = Gross_salary - tax\n",
    "print(\"Gross Salary: \" , Gross_salary)\n",
    "print(\"tax: \" , tax)\n",
    "print(\"Net Salary: \" , Net_salary)\n"
   ]
  },
  {
   "cell_type": "code",
   "execution_count": 130,
   "id": "db505592",
   "metadata": {},
   "outputs": [
    {
     "name": "stdout",
     "output_type": "stream",
     "text": [
      "Please enter a letter: S\n",
      "S is present in the list\n"
     ]
    }
   ],
   "source": [
    "#3write a python code to search for a string in the given list\n",
    "Str1 = ['S','R','A','V','A','N','K','U','M','A','R']\n",
    "s = input('Please enter a letter: ')\n",
    "\n",
    "if s in Str1:\n",
    "    print(f'{s} is present in the list')\n",
    "else:\n",
    "    print(f'{s} is not present in the list')"
   ]
  },
  {
   "cell_type": "code",
   "execution_count": 139,
   "id": "21185b58",
   "metadata": {},
   "outputs": [
    {
     "name": "stdout",
     "output_type": "stream",
     "text": [
      "Number of upper letter are:  3\n",
      "Number of lower letter are:  3\n"
     ]
    }
   ],
   "source": [
    "#4Write a python function thataccepts s tring and caculates that number of upper letters and lower letters\n",
    "\n",
    "S=('S','r','A','V','a','n')\n",
    "upp=0\n",
    "low=0\n",
    "\n",
    "for i in S:\n",
    "    if i.isupper():\n",
    "        upp+=1\n",
    "    else:\n",
    "        low+=1\n",
    "        \n",
    "print(\"Number of upper letter are: \", upp)\n",
    "print(\"Number of lower letter are: \", low)\n"
   ]
  },
  {
   "cell_type": "code",
   "execution_count": 134,
   "id": "151be865",
   "metadata": {},
   "outputs": [
    {
     "name": "stdout",
     "output_type": "stream",
     "text": [
      "Even numbers:  [12, 14, 16, 18, 20, 22, 24, 26, 28, 30, 32, 34, 36]\n",
      "Odd numbers:  [13, 15, 17, 19, 21, 23, 25, 27, 29, 31, 33, 35]\n",
      "Total is:600 \n"
     ]
    }
   ],
   "source": [
    "#5 Write a program to display the sum of odd numbers and even numbers that fall between 12 and 37\n",
    "\n",
    "odd = [] \n",
    "even = [] \n",
    "total = 0 \n",
    "for i in range(12,37): \n",
    "    if(i%2 == 0): \n",
    "        even.append(i) \n",
    "    else: \n",
    "        odd.append(i) \n",
    "    total += i \n",
    "print(\"Even numbers: \",even) \n",
    "print(\"Odd numbers: \",odd) \n",
    "print(\"Total is:{} \".format(total)) "
   ]
  },
  {
   "cell_type": "code",
   "execution_count": 141,
   "id": "79d71249",
   "metadata": {},
   "outputs": [
    {
     "name": "stdout",
     "output_type": "stream",
     "text": [
      "Enter the number: 5\n",
      "The Multiplication Table of:  5\n",
      "5 x 1 = 5\n",
      "5 x 2 = 10\n",
      "5 x 3 = 15\n",
      "5 x 4 = 20\n",
      "5 x 5 = 25\n",
      "5 x 6 = 30\n",
      "5 x 7 = 35\n",
      "5 x 8 = 40\n",
      "5 x 9 = 45\n",
      "5 x 10 = 50\n"
     ]
    }
   ],
   "source": [
    "#6 Write a python program to print the table of any number\n",
    "s = int(input (\"Enter the number: \"))            \n",
    "print (\"The Multiplication Table of: \", s)\n",
    "\n",
    "for i in range(1, 11):      \n",
    "   print (s, 'x', i, '=', s * i)"
   ]
  },
  {
   "cell_type": "code",
   "execution_count": 1,
   "id": "638f5d33",
   "metadata": {},
   "outputs": [
    {
     "name": "stdout",
     "output_type": "stream",
     "text": [
      "Enter a number: 5\n",
      "[2, 3, 5, 7, 11]\n",
      "sum of first ten prime numbers:  28\n"
     ]
    }
   ],
   "source": [
    "#7 Write a python program to sum the first 10 prime numbers\n",
    "\n",
    "from math import sqrt\n",
    " \n",
    "num = int(input(\"Enter a number: \"))\n",
    "count = 0\n",
    "n = 2\n",
    "l=[]\n",
    " \n",
    "while count < num:\n",
    "    prime_flag = True\n",
    "     \n",
    "    for i in range(2, int(sqrt(n)) + 1):\n",
    "        if (n % i) == 0:\n",
    "            prime_flag = False\n",
    "            break\n",
    "     \n",
    "    if prime_flag:\n",
    "        l.append(n)\n",
    "        count = count + 1\n",
    "    n = n + 1\n",
    "print(l)\n",
    "print('sum of first ten prime numbers: ',sum(l))"
   ]
  },
  {
   "cell_type": "code",
   "execution_count": 166,
   "id": "ab5dbf26",
   "metadata": {},
   "outputs": [
    {
     "name": "stdout",
     "output_type": "stream",
     "text": [
      "Enter the 1st number: 20\n",
      "Enter the 2nd number: 10\n",
      "Enter the Operation: Subtraction\n",
      "10\n"
     ]
    }
   ],
   "source": [
    "#8 Write a python program to implement arithematic operations using nested if statement\n",
    "\n",
    "S1= int (input(\"Enter the 1st number: \"))\n",
    "S2= int(input(\"Enter the 2nd number: \"))\n",
    "\n",
    "opr= input(\"Enter the Operation: \")\n",
    "\n",
    "if opr == 'Addition':\n",
    "    print(S1+S2)\n",
    "elif opr == 'Subtraction':\n",
    "    print(S1 - S2)\n",
    "elif opr == 'Multiplication':\n",
    "    print(S1*S2)\n",
    "    \n",
    "else:\n",
    "    print(S1/S2)"
   ]
  },
  {
   "cell_type": "code",
   "execution_count": 167,
   "id": "f25da2e0",
   "metadata": {},
   "outputs": [
    {
     "name": "stdout",
     "output_type": "stream",
     "text": [
      "Enter the Celsius Value: 37\n",
      "37.0 Celsius equals to 98.60000000000001 Fahrenhit\n"
     ]
    }
   ],
   "source": [
    "#9 Write a python program to take the temperature in celsius and convert it to a fahrenhit\n",
    "\n",
    "c=float(input(\"Enter the Celsius Value: \"))\n",
    "\n",
    "f= (c * 1.8) +32\n",
    "\n",
    "print('{} Celsius equals to {} Fahrenhit'.format(c,f))"
   ]
  },
  {
   "cell_type": "code",
   "execution_count": 170,
   "id": "31e0649f",
   "metadata": {},
   "outputs": [
    {
     "name": "stdout",
     "output_type": "stream",
     "text": [
      "The maximum number is:  9773\n",
      "The manimum number is:  27\n"
     ]
    }
   ],
   "source": [
    "#10 Write a python function to find the minimum and maximum number in list without using any inbuilt function\n",
    "\n",
    "List=[27,873,9773,987,3552,987]\n",
    "\n",
    "max=0\n",
    "min=List[0]\n",
    "for i in List:\n",
    "    if i>max:\n",
    "        max=i\n",
    "    if i<min:\n",
    "        min=i\n",
    "        \n",
    "print(\"The maximum number is: \", max)\n",
    "print(\"The manimum number is: \", min)"
   ]
  },
  {
   "cell_type": "code",
   "execution_count": 175,
   "id": "3d962f9e",
   "metadata": {},
   "outputs": [
    {
     "name": "stdout",
     "output_type": "stream",
     "text": [
      "2592000\n",
      "86400\n",
      "3600\n",
      "60\n"
     ]
    }
   ],
   "source": [
    "#11 Write a program in python to print out the number of seconds in 30 day momth 30 days,24 hrs in a day,60 minutes per day, 60 seconds in a minute\n",
    "\n",
    "Sec=[]\n",
    "Month=30\n",
    "Day=24\n",
    "Hour=60\n",
    "Minute=60\n",
    "\n",
    "Sec_month=Month*Day*Hour*Minute\n",
    "print(Sec_month)\n",
    "\n",
    "Sec_Day=Day*Hour*Minute\n",
    "print (Sec_Day)\n",
    "\n",
    "Sec_Hour=Hour*Minute\n",
    "print(Sec_Hour)\n",
    "\n",
    "Sec_Minute=1*Minute\n",
    "print(Sec_Minute)"
   ]
  },
  {
   "cell_type": "code",
   "execution_count": 178,
   "id": "ae190025",
   "metadata": {},
   "outputs": [
    {
     "name": "stdout",
     "output_type": "stream",
     "text": [
      "31536000\n"
     ]
    }
   ],
   "source": [
    "#12 Write a program in python to print out the number of seconds in year\n",
    "\n",
    "\n",
    "Days=365\n",
    "Hour=24\n",
    "Minute=60\n",
    "Sec=60\n",
    "\n",
    "Sec_Year=Days*Hour*Minute*Sec\n",
    "\n",
    "print(Sec_Year)\n"
   ]
  },
  {
   "cell_type": "code",
   "execution_count": 181,
   "id": "3c59dc2e",
   "metadata": {},
   "outputs": [
    {
     "name": "stdout",
     "output_type": "stream",
     "text": [
      "2.76\n"
     ]
    }
   ],
   "source": [
    "#13 A high speed train  can travel at an average speed of 150mph, how long will it take a train travelling at this speed to travel from London to Glasgow which is 414 miles away\n",
    "\n",
    "Avg_speed=150\n",
    "Avg_distance=414\n",
    "Avg_time= Avg_distance / Avg_speed\n",
    "\n",
    "print(Avg_time)"
   ]
  },
  {
   "cell_type": "code",
   "execution_count": 182,
   "id": "ef88b69f",
   "metadata": {},
   "outputs": [
    {
     "name": "stdout",
     "output_type": "stream",
     "text": [
      "Total hours:  5760\n"
     ]
    }
   ],
   "source": [
    "#14  Write a python program that defines a vraibele and assigns 192 days to the variable. the program should then print the total hours that you spent from 7year to 11 year.\n",
    "\n",
    "days_in_each_school=192\n",
    "thrs=0\n",
    "for i in range(7,12):\n",
    "    thrs+=(192*6)\n",
    "print(\"Total hours: \", thrs)\n"
   ]
  },
  {
   "cell_type": "code",
   "execution_count": 188,
   "id": "35634288",
   "metadata": {},
   "outputs": [
    {
     "name": "stdout",
     "output_type": "stream",
     "text": [
      "Enter the Age of Ram :25\n",
      "Enter the Age of Sam :52\n",
      "Enter the Age of khan :12\n",
      "The Youngest Age is Khan\n",
      "The Edlest Age is Sam\n"
     ]
    }
   ],
   "source": [
    "#15 if the age of ram,sam,khan are input through the keyboard, write a python program to determine the eldets and youngest pof the three\n",
    "\n",
    "r= int(input(\"Enter the Age of Ram :\"))\n",
    "s= int(input(\"Enter the Age of Sam :\"))\n",
    "k = int(input(\"Enter the Age of khan :\"))\n",
    "\n",
    "if(r < s and r <k):\n",
    "\tprint(\"The Youngest Age is Ram\")\n",
    "    \n",
    "elif(s<r and s<k):\n",
    "\tprint(\"The Youngest Age is Sam\")\n",
    "    \n",
    "else:\n",
    "\tprint(\"The Youngest Age is Khan\")\n",
    "    \n",
    "if(r > s and r >k):\n",
    "\tprint(\"The Eldest Age is Ram\")\n",
    "    \n",
    "elif(s>r and s>k):\n",
    "\tprint(\"The Edlest Age is Sam\")\n",
    "    \n",
    "else:\n",
    "\tprint(\"The Edlest Age is Khan\")"
   ]
  },
  {
   "cell_type": "code",
   "execution_count": 10,
   "id": "84b7db24",
   "metadata": {},
   "outputs": [
    {
     "name": "stdout",
     "output_type": "stream",
     "text": [
      "[6, 8, 10, 12, 2, 4]\n"
     ]
    }
   ],
   "source": [
    "#16 Write a python program to rotate a list by right n times with and without slicing technique\n",
    "\n",
    "n=3\n",
    "list=[2,4,6,8,10]\n",
    "out=[]\n",
    "\n",
    "for item in range(len(list) - n, len(list)):\n",
    "    out.append(list[item])\n",
    "    \n",
    "for item in range(0, len(list) - n):\n",
    "    out.append(list[item])\n",
    "    \n",
    "print(out)"
   ]
  },
  {
   "cell_type": "code",
   "execution_count": 21,
   "id": "9e313cf4",
   "metadata": {},
   "outputs": [
    {
     "name": "stdout",
     "output_type": "stream",
     "text": [
      "enter number 5\n",
      "* \n",
      "* * \n",
      "* * * \n",
      "* * * * \n",
      "* * * * * \n"
     ]
    }
   ],
   "source": [
    "#17\n",
    "n=int(input(\"enter number \"))\n",
    "for i in range(1,n+1):\n",
    "    for j in range(i):\n",
    "        print(\"*\", end=\" \")\n",
    "        \n",
    "    print()"
   ]
  }
 ],
 "metadata": {
  "kernelspec": {
   "display_name": "Python 3 (ipykernel)",
   "language": "python",
   "name": "python3"
  },
  "language_info": {
   "codemirror_mode": {
    "name": "ipython",
    "version": 3
   },
   "file_extension": ".py",
   "mimetype": "text/x-python",
   "name": "python",
   "nbconvert_exporter": "python",
   "pygments_lexer": "ipython3",
   "version": "3.11.4"
  }
 },
 "nbformat": 4,
 "nbformat_minor": 5
}
