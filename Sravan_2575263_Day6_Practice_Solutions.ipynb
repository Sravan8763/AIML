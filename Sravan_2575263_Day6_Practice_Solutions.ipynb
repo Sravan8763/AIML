{
 "cells": [
  {
   "cell_type": "markdown",
   "id": "4747fd7f",
   "metadata": {},
   "source": [
    "# 1. Write a python program to create a base class \"Shape\" with methods to calculate area and perimeter. Then, create derived classes \"Circle\" and \"Rectangle\" that inherit from the base class and calculate their respective areas and perimeters. Demonstrate their usage in a program.\n"
   ]
  },
  {
   "cell_type": "code",
   "execution_count": 25,
   "id": "ef5c0e1e",
   "metadata": {},
   "outputs": [
    {
     "name": "stdout",
     "output_type": "stream",
     "text": [
      "Enter the radius: 10\n",
      "Area of the circle is: 314.0\n",
      "Perimeter of the circle is: 62.800000000000004\n"
     ]
    }
   ],
   "source": [
    "class shapes:\n",
    "    def __init__(self):\n",
    "        pass\n",
    "\n",
    "    def area(self):\n",
    "        pass\n",
    "\n",
    "    def perimeter(self):\n",
    "        pass\n",
    "\n",
    "class circle(shapes):\n",
    "    def __init__(self, radius =int(input(\"Enter the radius: \"))):\n",
    "        self.radius = radius\n",
    "\n",
    "    def area(self):\n",
    "        return 3.14 * self.radius * self.radius\n",
    "\n",
    "    def perimeter(self):\n",
    "        return 2 * 3.14 * self.radius\n",
    "\n",
    "c = circle()\n",
    "print(\"Area of the circle is:\", c.area())\n",
    "print(\"Perimeter of the circle is:\", c.perimeter())"
   ]
  },
  {
   "cell_type": "code",
   "execution_count": 24,
   "id": "90465930",
   "metadata": {},
   "outputs": [
    {
     "name": "stdout",
     "output_type": "stream",
     "text": [
      "enter the length: 10\n",
      "enter the breadth: 20\n",
      "Area of the rectangle is: 200\n",
      "Perimeter of the rectangle is: 60\n"
     ]
    }
   ],
   "source": [
    "class rectangle(shapes):\n",
    "    \n",
    "    def __init__(self, length=int(input('enter the length: ')), breadth=int(input('enter the breadth: '))):\n",
    "        self.length = length\n",
    "        self.breadth = breadth\n",
    "\n",
    "    def area(self):\n",
    "        return self.length * self.breadth\n",
    "\n",
    "    def perimeter(self):\n",
    "        return 2 * (self.length + self.breadth)\n",
    "\n",
    "r= rectangle()\n",
    "print(\"Area of the rectangle is:\", r.area())\n",
    "print(\"Perimeter of the rectangle is:\", r.perimeter())"
   ]
  },
  {
   "cell_type": "markdown",
   "id": "87a38a4f",
   "metadata": {},
   "source": [
    "# 2.Write a python script to create a class \"Person\" with private attributes for age and name. Implement a method to calculate a person's eligibility for voting based on their age. Ensure that age cannot be accessed directly but only through a getter method.\n"
   ]
  },
  {
   "cell_type": "code",
   "execution_count": 15,
   "id": "8bbdc635",
   "metadata": {},
   "outputs": [
    {
     "name": "stdout",
     "output_type": "stream",
     "text": [
      "Name please: Sravan Kumar\n",
      "Age of your's: 22\n"
     ]
    }
   ],
   "source": [
    "class person:\n",
    "    \n",
    "    def __init__(self,name=input('Name please: '),age=int(input(\"Age of your's: \"))):\n",
    "        self.name=name\n",
    "        self.age=age\n",
    "        \n",
    "    def vote(self):\n",
    "            if self.age >=18:\n",
    "                print(\"Your age is {} and you are elligible for voting.\".format(self.age))\n",
    "                \n",
    "            else:\n",
    "                print(\"You are not-elligible to vote\")\n",
    "                \n",
    "    def display(self):\n",
    "            print(\"{} is elligle to vote as his age is {}\".format(self.name,self.age))\n",
    "                \n",
    "obj=person()"
   ]
  },
  {
   "cell_type": "code",
   "execution_count": 16,
   "id": "f2d769f8",
   "metadata": {},
   "outputs": [
    {
     "name": "stdout",
     "output_type": "stream",
     "text": [
      "Your age is 22 and you are elligible for voting.\n"
     ]
    }
   ],
   "source": [
    "obj.vote()"
   ]
  },
  {
   "cell_type": "code",
   "execution_count": 17,
   "id": "d598dba0",
   "metadata": {},
   "outputs": [
    {
     "name": "stdout",
     "output_type": "stream",
     "text": [
      "Sravan Kumar is elligle to vote as his age is 22\n"
     ]
    }
   ],
   "source": [
    "obj.display()"
   ]
  },
  {
   "cell_type": "markdown",
   "id": "824d6420",
   "metadata": {},
   "source": [
    "# 3. You are tasked with designing a Python class hierarchy for a simple banking system. The system should be able to handle different types of accounts, such as Savings Accounts and Checking Accounts. Both account types should have common attributes like an account number, account holder's name, and balance. However, Savings Accounts should have an additional attribute for interest rate, while Checking Accounts should have an attribute for overdraft limit.\n"
   ]
  },
  {
   "cell_type": "code",
   "execution_count": 56,
   "id": "0447fc91",
   "metadata": {},
   "outputs": [
    {
     "name": "stdout",
     "output_type": "stream",
     "text": [
      "Deposited 500. New balance: 7500\n",
      "Interest added. New balance: 7687.5\n",
      "Withdrawal exceeds overdraft limit.\n"
     ]
    }
   ],
   "source": [
    "class BankAccount:\n",
    "    def __init__(self, account_number, account_holder_name, balance):\n",
    "        self.account_number = account_number\n",
    "        self.account_holder_name = account_holder_name\n",
    "        self.balance = balance\n",
    "\n",
    "    def deposit(self, amount):\n",
    "        if amount > 0:\n",
    "            self.balance += amount\n",
    "            return f\"Deposited {amount}. New balance: {self.balance}\"\n",
    "        else:\n",
    "            return \"Invalid deposit amount.\"\n",
    "\n",
    "    def withdraw(self, amount):\n",
    "        if 0 < amount <= self.balance:\n",
    "            self.balance -= amount\n",
    "            return f\"Withdrew {amount}. New balance: {self.balance}\"\n",
    "        else:\n",
    "            return \"Insufficient funds.\"\n",
    "\n",
    "class SavingsAccount(BankAccount):\n",
    "    def __init__(self, account_number, account_holder_name, balance, interest_rate):\n",
    "        super().__init__(account_number, account_holder_name, balance)\n",
    "        self.interest_rate = interest_rate\n",
    "\n",
    "    def calculate_interest(self):\n",
    "        interest = self.balance * (self.interest_rate / 100)\n",
    "        self.balance += interest\n",
    "        return f\"Interest added. New balance: {self.balance}\"\n",
    "\n",
    "class CheckingAccount(BankAccount):\n",
    "    def __init__(self, account_number, account_holder_name, balance, overdraft_limit):\n",
    "        super().__init__(account_number, account_holder_name, balance)\n",
    "        self.overdraft_limit = overdraft_limit\n",
    "\n",
    "    def withdraw(self, amount):\n",
    "        if 0 < amount <= (self.balance + self.overdraft_limit):\n",
    "            self.balance -= amount\n",
    "            return f\"Withdrew {amount}. New balance: {self.balance}\"\n",
    "        else:\n",
    "            return \"Withdrawal exceeds overdraft limit.\"\n",
    "\n",
    "\n",
    "savings_acc = SavingsAccount(\"SavingsAcc- 111\", \"Sravan\", 7000, 2.5)\n",
    "print(savings_acc.deposit(500))\n",
    "print(savings_acc.calculate_interest())\n",
    "\n",
    "checking_acc = CheckingAccount(\"Checking Acc- 112\", \"Prasad\", 500, 100)\n",
    "print(checking_acc.withdraw(700))\n"
   ]
  },
  {
   "cell_type": "markdown",
   "id": "fb0f0afd",
   "metadata": {},
   "source": [
    "# 4. You are developing an employee management system for a company. Ensure that the system utilizes encapsulation and polymorphism to handle different types of employees, such as full-time and part-time employees."
   ]
  },
  {
   "cell_type": "code",
   "execution_count": 47,
   "id": "2c144892",
   "metadata": {},
   "outputs": [],
   "source": [
    "class employee:\n",
    "    def __init__(self, name, employee_id, salary):\n",
    "        self.name = name\n",
    "        self.employee_id = employee_id\n",
    "        self.salary = salary\n",
    "\n",
    "    def get_name(self):\n",
    "        return self.name\n",
    "\n",
    "    def set_name(self, name):\n",
    "        self.name = name\n",
    "\n",
    "    def get_employee_id(self):\n",
    "        return self.employee_id\n",
    "\n",
    "    def set_employee_id(self, employee_id):\n",
    "        self.employee_id = employee_id\n",
    "\n",
    "    def get_salary(self):\n",
    "        return self.salary\n",
    "\n",
    "    def set_salary(self, salary):\n",
    "        self.salary = salary\n",
    "\n",
    "    def calculate_salary(self):\n",
    "        return self.salary\n",
    "\n",
    "\n",
    "    "
   ]
  },
  {
   "cell_type": "code",
   "execution_count": 48,
   "id": "9894adad",
   "metadata": {},
   "outputs": [],
   "source": [
    "class fulltime(Employee):\n",
    "    def __init__(self, name, employee_id, annual_salary):\n",
    "        super().__init__(name, employee_id, annual_salary)\n",
    "\n",
    "    def calculate_salary(self):\n",
    "        return self.get_salary() / 12 "
   ]
  },
  {
   "cell_type": "code",
   "execution_count": 49,
   "id": "6eee443b",
   "metadata": {},
   "outputs": [
    {
     "name": "stdout",
     "output_type": "stream",
     "text": [
      "Employee Name: Sravan Kumar\n",
      "\n",
      "Employee ID: 2575263\n",
      "\n",
      "Monthly Salary: 41666.666666666664\n",
      "\n",
      "Employee Name: Prasad\n",
      "\n",
      "Employee ID: 111111\n",
      "\n",
      "Monthly Salary: 30000\n",
      "\n"
     ]
    }
   ],
   "source": [
    "class parttime(Employee):\n",
    "    def __init__(self, name, employee_id, hourly_rate, hours_worked):\n",
    "        super().__init__(name, employee_id, None) \n",
    "        self.hourly_rate = hourly_rate\n",
    "        self.hours_worked = hours_worked\n",
    "\n",
    "    def get_hourly_rate(self):\n",
    "        return self.hourly_rate\n",
    "\n",
    "    def set_hourly_rate(self, hourly_rate):\n",
    "        self.hourly_rate = hourly_rate\n",
    "\n",
    "    def get_hours_worked(self):\n",
    "        return self.hours_worked\n",
    "\n",
    "    def set_hours_worked(self, hours_worked):\n",
    "        self.hours_worked = hours_worked\n",
    "\n",
    "    def calculate_salary(self):\n",
    "        return self.hourly_rate * self.hours_worked\n",
    "\n",
    "\n",
    "full_time_employee = fulltime(\"Sravan Kumar\",2575263,500000)\n",
    "part_time_employee = parttime(\"Prasad\",111111,150,200)\n",
    "\n",
    "employee = [full_time_employee, part_time_employee]\n",
    "\n",
    "for employee in employees:\n",
    "    print(f\"Employee Name: {employee.get_name()}\")\n",
    "    print()\n",
    "    print(f\"Employee ID: {employee.get_employee_id()}\")\n",
    "    print()\n",
    "    print(f\"Monthly Salary: {employee.calculate_salary()}\")\n",
    "    print()"
   ]
  },
  {
   "cell_type": "markdown",
   "id": "6e2bac21",
   "metadata": {},
   "source": [
    "# 5. Library Management System-Scenario: You are developing a library management system where you need to handle books, patrons, and library transactions.\n"
   ]
  },
  {
   "cell_type": "code",
   "execution_count": 6,
   "id": "3facd9e8",
   "metadata": {},
   "outputs": [
    {
     "name": "stdout",
     "output_type": "stream",
     "text": [
      "Checked out: The Great Gatsby\n",
      "Checked out: To Kill a Mockingbird\n",
      "Returned: The Great Gatsby\n",
      "Returned: To Kill a Mockingbird\n"
     ]
    }
   ],
   "source": [
    "from datetime import datetime, timedelta\n",
    "\n",
    "class Book:\n",
    "    def __init__(self, title, author, publication_date, book_type):\n",
    "        self.title = title\n",
    "        self.author = author\n",
    "        self.publication_date = publication_date\n",
    "        self.book_type = book_type\n",
    "        self.checked_out = False\n",
    "        self.checkout_date = None\n",
    "\n",
    "    def is_available(self):\n",
    "        return not self.checked_out\n",
    "\n",
    "    def checkout(self):\n",
    "        if self.is_available():\n",
    "            self.checked_out = True\n",
    "            self.checkout_date = datetime.now()\n",
    "            print(f\"Checked out: {self.title}\")\n",
    "        else:\n",
    "            print(f\"{self.title} is already checked out.\")\n",
    "\n",
    "    def return_book(self):\n",
    "        if not self.is_available():\n",
    "            days_checked_out = (datetime.now() - self.checkout_date).days\n",
    "            if days_checked_out > 14:\n",
    "                print(f\"Late return! You owe a fee for {days_checked_out - 14} days.\")\n",
    "            self.checked_out = False\n",
    "            self.checkout_date = None\n",
    "            print(f\"Returned: {self.title}\")\n",
    "        else:\n",
    "            print(f\"{self.title} is already available.\")\n",
    "\n",
    "class Patron:\n",
    "    def __init__(self, name, id):\n",
    "        self.name = name\n",
    "        self.id = id\n",
    "        self.checked_out_books = []\n",
    "\n",
    "    def check_out_book(self, book):\n",
    "        if book.is_available():\n",
    "            self.checked_out_books.append(book)\n",
    "            book.checkout()\n",
    "        else:\n",
    "            print(f\"{book.title} is not available for checkout.\")\n",
    "\n",
    "    def return_book(self, book):\n",
    "        if book in self.checked_out_books:\n",
    "            self.checked_out_books.remove(book)\n",
    "            book.return_book()\n",
    "        else:\n",
    "            print(f\"You didn't check out {book.title}.\")\n",
    "\n",
    "\n",
    "book1 = Book(\"The Great Gatsby\", \"F. Scott Fitzgerald\", \"1925\", \"Fiction\")\n",
    "book2 = Book(\"To Kill a Mockingbird\", \"Harper Lee\", \"1960\", \"Fiction\")\n",
    "book3 = Book(\"The Elements of Style\", \"William Strunk Jr.\", \"1918\", \"Non-Fiction\")\n",
    "\n",
    "patron1 = Patron(\"Alice\", 101)\n",
    "patron2 = Patron(\"Bob\", 102)\n",
    "\n",
    "patron1.check_out_book(book1)\n",
    "patron2.check_out_book(book2)\n",
    "\n",
    "book1.return_book()\n",
    "patron2.return_book(book2)\n",
    "\n"
   ]
  },
  {
   "cell_type": "markdown",
   "id": "89f196c1",
   "metadata": {},
   "source": [
    "# 6. Online Shopping Cart\n",
    "\n",
    "Scenario: You are tasked with designing a class hierarchy for an online shopping cart system. The system should handle products, shopping carts, and orders. Consider various OOP principles while designing this system."
   ]
  },
  {
   "cell_type": "code",
   "execution_count": 5,
   "id": "b632697a",
   "metadata": {},
   "outputs": [
    {
     "name": "stdout",
     "output_type": "stream",
     "text": [
      "Added 2 Laptop to the cart.\n",
      "Added 5 T-Shirt to the cart.\n",
      "Order placed successfully.\n",
      "True\n",
      "Stock quantity of Laptop: 8\n"
     ]
    }
   ],
   "source": [
    "class Product:\n",
    "    def __init__(self, product_id, name, price, stock_quantity):\n",
    "        self.__product_id = product_id\n",
    "        self.__name = name\n",
    "        self.__price = price\n",
    "        self.__stock_quantity = stock_quantity\n",
    "\n",
    "    def get_product_id(self):\n",
    "        return self.__product_id\n",
    "\n",
    "    def get_name(self):\n",
    "        return self.__name\n",
    "\n",
    "    def get_price(self):\n",
    "        return self.__price\n",
    "\n",
    "    def get_stock_quantity(self):\n",
    "        return self.__stock_quantity\n",
    "\n",
    "    def set_stock_quantity(self, quantity):\n",
    "        self.__stock_quantity = quantity\n",
    "\n",
    "    def __str__(self):\n",
    "        return f\"{self.__name} (${self.__price})\"\n",
    "\n",
    "class Electronics(Product):\n",
    "    def __init__(self, product_id, name, price, stock_quantity, warranty_months):\n",
    "        super().__init__(product_id, name, price, stock_quantity)\n",
    "        self.__warranty_months = warranty_months\n",
    "\n",
    "    def get_warranty_months(self):\n",
    "        return self.__warranty_months\n",
    "\n",
    "class Clothing(Product):\n",
    "    def __init__(self, product_id, name, price, stock_quantity, size):\n",
    "        super().__init__(product_id, name, price, stock_quantity)\n",
    "        self.__size = size\n",
    "\n",
    "    def get_size(self):\n",
    "        return self.__size\n",
    "\n",
    "class ShoppingCart:\n",
    "    def __init__(self):\n",
    "        self.__items = []\n",
    "\n",
    "    def add_item(self, product, quantity):\n",
    "        if product.get_stock_quantity() >= quantity:\n",
    "            self.__items.append((product, quantity))\n",
    "            product.set_stock_quantity(product.get_stock_quantity() - quantity)\n",
    "            return f\"Added {quantity} {product.get_name()} to the cart.\"\n",
    "        else:\n",
    "            return f\"Sorry, {product.get_name()} is out of stock.\"\n",
    "\n",
    "    def calculate_total(self):\n",
    "        total = sum(product.get_price() * quantity for product, quantity in self.__items)\n",
    "        return total\n",
    "\n",
    "    def get_items(self):\n",
    "        return self.__items\n",
    "\n",
    "    def clear_cart(self):\n",
    "        self.__items = []\n",
    "\n",
    "class Order:\n",
    "    def __init__(self, order_id, cart, shipping_address):\n",
    "        self.__order_id = order_id\n",
    "        self.__cart = cart\n",
    "        self.__shipping_address = shipping_address\n",
    "        self.__is_shipped = False\n",
    "\n",
    "    def place_order(self):\n",
    "        if self.__cart.calculate_total() > 0:\n",
    "            self.__is_shipped = True\n",
    "            return \"Order placed successfully.\"\n",
    "        else:\n",
    "            return \"Cannot place an empty order.\"\n",
    "\n",
    "    def is_shipped(self):\n",
    "        return self.__is_shipped\n",
    "\n",
    "\n",
    "laptop = Electronics(1, \"Laptop\", 1000, 10, 12)\n",
    "tshirt = Clothing(2, \"T-Shirt\", 20, 50, \"Medium\")\n",
    "\n",
    "cart = ShoppingCart()\n",
    "print(cart.add_item(laptop, 2))\n",
    "print(cart.add_item(tshirt, 5))\n",
    "\n",
    "order = Order(1, cart, \"123 Main St\")\n",
    "print(order.place_order())\n",
    "\n",
    "print(order.is_shipped())\n",
    "\n",
    "print(f\"Stock quantity of {laptop.get_name()}: {laptop.get_stock_quantity()}\")"
   ]
  },
  {
   "cell_type": "code",
   "execution_count": null,
   "id": "fa5f88ef",
   "metadata": {},
   "outputs": [],
   "source": []
  }
 ],
 "metadata": {
  "kernelspec": {
   "display_name": "Python 3 (ipykernel)",
   "language": "python",
   "name": "python3"
  },
  "language_info": {
   "codemirror_mode": {
    "name": "ipython",
    "version": 3
   },
   "file_extension": ".py",
   "mimetype": "text/x-python",
   "name": "python",
   "nbconvert_exporter": "python",
   "pygments_lexer": "ipython3",
   "version": "3.11.4"
  }
 },
 "nbformat": 4,
 "nbformat_minor": 5
}
