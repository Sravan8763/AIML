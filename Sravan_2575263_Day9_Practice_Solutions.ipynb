{
 "cells": [
  {
   "cell_type": "markdown",
   "id": "43ff7d45",
   "metadata": {},
   "source": [
    "# 1. Create a 3x3x3 array with random values"
   ]
  },
  {
   "cell_type": "code",
   "execution_count": 71,
   "id": "7a9faac3",
   "metadata": {},
   "outputs": [
    {
     "name": "stdout",
     "output_type": "stream",
     "text": [
      "[[[0.14058193 0.35076493 0.67771201]\n",
      "  [0.25983064 0.92812015 0.54125782]\n",
      "  [0.61307017 0.97250419 0.45237555]]\n",
      "\n",
      " [[0.68392337 0.96199296 0.59475172]\n",
      "  [0.11584762 0.28102903 0.09085544]\n",
      "  [0.61826673 0.89737965 0.37843533]]\n",
      "\n",
      " [[0.23604461 0.7891695  0.89475608]\n",
      "  [0.8411527  0.09487431 0.7624529 ]\n",
      "  [0.49657267 0.4033743  0.01199618]]]\n"
     ]
    }
   ],
   "source": [
    "import numpy as np\n",
    "\n",
    "s= np.random.random((3, 3, 3))\n",
    "\n",
    "print(s)"
   ]
  },
  {
   "cell_type": "markdown",
   "id": "c2587c72",
   "metadata": {},
   "source": [
    "# 2. Create a 5x5 matrix with values 1,2,3,4 just below the diagonal"
   ]
  },
  {
   "cell_type": "code",
   "execution_count": 8,
   "id": "baa2c9ef",
   "metadata": {},
   "outputs": [
    {
     "name": "stdout",
     "output_type": "stream",
     "text": [
      "[[0. 0. 0. 0. 0.]\n",
      " [0. 0. 0. 0. 0.]\n",
      " [0. 0. 0. 0. 0.]\n",
      " [0. 0. 0. 0. 0.]\n",
      " [0. 0. 0. 0. 0.]]\n"
     ]
    }
   ],
   "source": [
    "import numpy as np\n",
    "\n",
    "s= np.zeros((5, 5))\n",
    "print(s)"
   ]
  },
  {
   "cell_type": "code",
   "execution_count": 10,
   "id": "96b10c07",
   "metadata": {},
   "outputs": [],
   "source": [
    "s[1][0] = 1\n",
    "s[2][1] = 2\n",
    "s[3][2] = 3\n",
    "s[4][3] = 4"
   ]
  },
  {
   "cell_type": "code",
   "execution_count": 11,
   "id": "61ef3482",
   "metadata": {},
   "outputs": [
    {
     "name": "stdout",
     "output_type": "stream",
     "text": [
      "[[0. 0. 0. 0. 0.]\n",
      " [1. 0. 0. 0. 0.]\n",
      " [0. 2. 0. 0. 0.]\n",
      " [0. 0. 3. 0. 0.]\n",
      " [0. 0. 0. 4. 0.]]\n"
     ]
    }
   ],
   "source": [
    "print(s)"
   ]
  },
  {
   "cell_type": "markdown",
   "id": "fdb71ac6",
   "metadata": {},
   "source": [
    "# 3. Create a 8x8 matrix and fill it with a checkerboard pattern"
   ]
  },
  {
   "cell_type": "code",
   "execution_count": 13,
   "id": "5e9bf2c1",
   "metadata": {},
   "outputs": [
    {
     "name": "stdout",
     "output_type": "stream",
     "text": [
      "[[0 0 0 0 0 0 0 0]\n",
      " [0 0 0 0 0 0 0 0]\n",
      " [0 0 0 0 0 0 0 0]\n",
      " [0 0 0 0 0 0 0 0]\n",
      " [0 0 0 0 0 0 0 0]\n",
      " [0 0 0 0 0 0 0 0]\n",
      " [0 0 0 0 0 0 0 0]\n",
      " [0 0 0 0 0 0 0 0]]\n"
     ]
    }
   ],
   "source": [
    "import numpy as np\n",
    "\n",
    "s= np.zeros((8, 8), dtype=int)\n",
    "print(s)"
   ]
  },
  {
   "cell_type": "code",
   "execution_count": 14,
   "id": "52aeb09b",
   "metadata": {},
   "outputs": [
    {
     "name": "stdout",
     "output_type": "stream",
     "text": [
      "[[0 1 0 1 0 1 0 1]\n",
      " [1 0 1 0 1 0 1 0]\n",
      " [0 1 0 1 0 1 0 1]\n",
      " [1 0 1 0 1 0 1 0]\n",
      " [0 1 0 1 0 1 0 1]\n",
      " [1 0 1 0 1 0 1 0]\n",
      " [0 1 0 1 0 1 0 1]\n",
      " [1 0 1 0 1 0 1 0]]\n"
     ]
    }
   ],
   "source": [
    "s[1::2, ::2] = 1\n",
    "s[::2, 1::2] = 1\n",
    "\n",
    "print(s)"
   ]
  },
  {
   "cell_type": "markdown",
   "id": "24dff96a",
   "metadata": {},
   "source": [
    "# 4. Normalize a 5x5 random matrix"
   ]
  },
  {
   "cell_type": "code",
   "execution_count": 18,
   "id": "b9add8a8",
   "metadata": {},
   "outputs": [
    {
     "name": "stdout",
     "output_type": "stream",
     "text": [
      "Random Matrix:\n",
      "[[0.41477563 0.50400701 0.29287375 0.31209913 0.34356844]\n",
      " [0.01844561 0.9535536  0.73491928 0.58697487 0.98047088]\n",
      " [0.71141609 0.68153731 0.68420382 0.84093897 0.19912941]\n",
      " [0.16172084 0.30234677 0.17973379 0.94987179 0.65211879]\n",
      " [0.41445542 0.786564   0.49578495 0.96105564 0.60160958]]\n",
      "\n",
      "Normalized Matrix:\n",
      "[[-0.49392935 -0.16935798 -0.93733684 -0.8674062  -0.75293933]\n",
      " [-1.93554533  1.46582868  0.67056532  0.13243042  1.56373792]\n",
      " [ 0.58507452  0.47639304  0.48609225  1.05620272 -1.27832372]\n",
      " [-1.41439415 -0.90287956 -1.3488736   1.45243639  0.36938577]\n",
      " [-0.49509408  0.85841852 -0.19926499  1.4931167   0.18566289]]\n"
     ]
    }
   ],
   "source": [
    "import numpy as np\n",
    "\n",
    "x= np.random.rand(5, 5)\n",
    "\n",
    "mean = np.mean(x)\n",
    "std_dev = np.std(x)\n",
    "\n",
    "norm_mat = (x - mean) / std_dev\n",
    "\n",
    "print(\"Random Matrix:\")\n",
    "print(x)\n",
    "print()\n",
    "print(\"Normalized Matrix:\")\n",
    "print(norm_mat)"
   ]
  },
  {
   "cell_type": "markdown",
   "id": "8596c707",
   "metadata": {},
   "source": [
    "# 5. How to find common values between two arrays?"
   ]
  },
  {
   "cell_type": "code",
   "execution_count": 25,
   "id": "89fa81bd",
   "metadata": {},
   "outputs": [
    {
     "name": "stdout",
     "output_type": "stream",
     "text": [
      "Array1:  [ 1  3  5  7  9 11 13]\n",
      "Array2:  [ 2  4  6  1  8 11 10 13]\n",
      "The common vales in both the array are:  [ 1 11 13]\n"
     ]
    }
   ],
   "source": [
    "import numpy as np\n",
    "\n",
    "arr1=np.array([1,3,5,7,9,11,13])\n",
    "arr2=np.array([2,4,6,1,8,11,10,13])\n",
    "\n",
    "x=np.intersect1d(arr1,arr2)\n",
    "\n",
    "print(\"Array1: \",arr1)\n",
    "print(\"Array2: \",arr2)\n",
    "print(\"The common vales in both the array are: \",x)"
   ]
  },
  {
   "cell_type": "markdown",
   "id": "111debf4",
   "metadata": {},
   "source": [
    "# 6. How to get the dates of yesterday, today and tomorrow?\n"
   ]
  },
  {
   "cell_type": "code",
   "execution_count": 23,
   "id": "c45df684",
   "metadata": {},
   "outputs": [
    {
     "name": "stdout",
     "output_type": "stream",
     "text": [
      "Yesterday: 2023-09-20\n",
      "Today: 2023-09-21\n",
      "Tomorrow:  2023-09-22\n"
     ]
    }
   ],
   "source": [
    "import numpy as np\n",
    "from datetime import datetime, timedelta\n",
    "\n",
    "today = datetime.now().date()\n",
    "\n",
    "date_range = np.array([today - timedelta(days=1), today, today + timedelta(days=1)], dtype='datetime64[D]')\n",
    "\n",
    "print(\"Yesterday:\", date_range[0])\n",
    "print(\"Today:\", date_range[1])\n",
    "print(\"Tomorrow: \",date_range[2])"
   ]
  },
  {
   "cell_type": "markdown",
   "id": "52603469",
   "metadata": {},
   "source": [
    "# 7. Consider two random array A and B, check if they are equal"
   ]
  },
  {
   "cell_type": "code",
   "execution_count": 32,
   "id": "1c4341b9",
   "metadata": {},
   "outputs": [
    {
     "name": "stdout",
     "output_type": "stream",
     "text": [
      "[[0.13696947 0.97072153 0.34274028 0.36415533]\n",
      " [0.60644836 0.93559931 0.14721494 0.14060404]\n",
      " [0.99809832 0.71986436 0.92396758 0.45585351]\n",
      " [0.46608491 0.48337887 0.48636098 0.42271169]]\n",
      "\n",
      "[[0.22670066 0.01046564 0.78770002 0.43339642]\n",
      " [0.42255181 0.61772604 0.23864892 0.94863114]\n",
      " [0.02027848 0.68364765 0.53885713 0.09969158]\n",
      " [0.38602139 0.95973489 0.02955921 0.73151636]]\n",
      "Not Equal\n",
      "\n"
     ]
    }
   ],
   "source": [
    "import numpy as np\n",
    "\n",
    "x=np.random.random((4,4))\n",
    "y=np.random.random((4,4))\n",
    "print(x)\n",
    "print()\n",
    "print(y)\n",
    "\n",
    "s=np.array_equal(x,y)\n",
    "if s:\n",
    "    print(\"Both x and y arrays are equal\")\n",
    "    \n",
    "else:\n",
    "    print(\"Not Equal\")\n"
   ]
  },
  {
   "cell_type": "markdown",
   "id": "11e13803",
   "metadata": {},
   "source": [
    "# 8. Create random vector of size 10 and replace the maximum value by 0"
   ]
  },
  {
   "cell_type": "code",
   "execution_count": 37,
   "id": "a575f4db",
   "metadata": {},
   "outputs": [
    {
     "name": "stdout",
     "output_type": "stream",
     "text": [
      "Random Vector:  [[0.13696947 0.97072153 0.34274028 0.36415533]\n",
      " [0.60644836 0.93559931 0.14721494 0.14060404]\n",
      " [0.99809832 0.71986436 0.92396758 0.45585351]\n",
      " [0.46608491 0.48337887 0.48636098 0.42271169]]\n",
      "\n",
      "Random Vector with Maximum Value Replaced: [0.03383359 0.55793303 0.19772012 0.16903038 0.11027515 0.11286949\n",
      " 0.10067504 0.20546676 0.         0.07270764]\n"
     ]
    }
   ],
   "source": [
    "import numpy as np\n",
    "\n",
    "s= np.random.random((10))\n",
    "\n",
    "max_v = np.argmax(s)\n",
    "\n",
    "s[max_v] = 0\n",
    "\n",
    "\n",
    "print(\"Random Vector: \",x)\n",
    "print()\n",
    "print(\"Random Vector with Maximum Value Replaced:\", s)"
   ]
  },
  {
   "cell_type": "markdown",
   "id": "cb2c840e",
   "metadata": {},
   "source": [
    "# 9. How to print all the values of an array?"
   ]
  },
  {
   "cell_type": "code",
   "execution_count": 38,
   "id": "6a8fe974",
   "metadata": {},
   "outputs": [
    {
     "name": "stdout",
     "output_type": "stream",
     "text": [
      "[1 2 3 4 5 6 7 8 9]\n"
     ]
    }
   ],
   "source": [
    "import numpy as np\n",
    "\n",
    "x= np.array([1,2,3,4,5,6,7,8,9])\n",
    "print(x)"
   ]
  },
  {
   "cell_type": "markdown",
   "id": "d6fb4414",
   "metadata": {},
   "source": [
    "# 10. Subtract the mean of each row of a matrix"
   ]
  },
  {
   "cell_type": "code",
   "execution_count": 45,
   "id": "a3121ecc",
   "metadata": {},
   "outputs": [
    {
     "name": "stdout",
     "output_type": "stream",
     "text": [
      "Original Matrix: \n",
      "[[0. 0. 0. 0. 0.]\n",
      " [1. 0. 0. 0. 0.]\n",
      " [0. 2. 0. 0. 0.]\n",
      " [0. 0. 3. 0. 0.]\n",
      " [0. 0. 0. 4. 0.]]\n",
      "\n",
      "Matrix with Mean of Each Row Subtracted:\n",
      "[[ 0.   0.   0.   0.   0. ]\n",
      " [ 0.8 -0.2 -0.2 -0.2 -0.2]\n",
      " [-0.4  1.6 -0.4 -0.4 -0.4]\n",
      " [-0.6 -0.6  2.4 -0.6 -0.6]\n",
      " [-0.8 -0.8 -0.8  3.2 -0.8]]\n"
     ]
    }
   ],
   "source": [
    "import numpy as np\n",
    "\n",
    "\n",
    "x= np.array([[1, 2, 3],\n",
    "            [4, 5, 6],\n",
    "            [7, 8, 9]])\n",
    "\n",
    "\n",
    "row= np.mean(matrix, axis=1)\n",
    "\n",
    "matrix_m = matrix - row[:, np.newaxis]\n",
    "\n",
    "print(\"Original Matrix: \")\n",
    "print(matrix)\n",
    "print()\n",
    "print(\"Matrix with Mean of Each Row Subtracted:\")\n",
    "print(matrix_m)"
   ]
  },
  {
   "cell_type": "markdown",
   "id": "5c7e7ee0",
   "metadata": {},
   "source": [
    "# 11. Consider a given vector, how to add 1 to each element indexed by a second vector (be careful with repeated indices)?\n"
   ]
  },
  {
   "cell_type": "code",
   "execution_count": 87,
   "id": "5c08d2ee",
   "metadata": {},
   "outputs": [
    {
     "name": "stdout",
     "output_type": "stream",
     "text": [
      "Given Vector is: \n",
      " [1 2 3 4 5]\n",
      "Final vector with 1 added is: \n",
      " [0 1 1 2 1]\n"
     ]
    }
   ],
   "source": [
    "import numpy as np\n",
    "x=np.array([1,2,3,4,5])\n",
    "y=np.array([1,2,3,3,4])\n",
    "\n",
    "o=np.zeros_like(x)\n",
    "for i in y:\n",
    "    o[i] +=1\n",
    "    \n",
    "print(\"Given Vector is: \\n\",x)\n",
    "print(\"Final vector with 1 added is: \\n\",o)\n"
   ]
  },
  {
   "cell_type": "markdown",
   "id": "98fc9a21",
   "metadata": {},
   "source": [
    "# 12. How to get the diagonal of a dot product?"
   ]
  },
  {
   "cell_type": "code",
   "execution_count": 52,
   "id": "58c92d7a",
   "metadata": {},
   "outputs": [
    {
     "name": "stdout",
     "output_type": "stream",
     "text": [
      "Matrix A:\n",
      " [[ 1  3  7]\n",
      " [ 9 11 13]\n",
      " [15 17 19]]\n",
      "\n",
      "Matrix B:\n",
      " [[ 2  4  6]\n",
      " [ 8 10 12]\n",
      " [14 16 18]]\n",
      "\n",
      "Dot Product:\n",
      " [[124 146 168]\n",
      " [288 354 420]\n",
      " [432 534 636]]\n",
      "\n",
      "Diagonal of Dot Product:\n",
      " [124 354 636]\n"
     ]
    }
   ],
   "source": [
    "import numpy as np\n",
    "\n",
    "x= np.array([[1,3,7],[9,11,13],[15,17,19]])\n",
    "\n",
    "y= np.array([[2,4,6],[8,10,12],[14,16,18]])\n",
    "\n",
    "dot_product= np.dot(x,y)\n",
    "diagonal_d= np.diag(dot_product)\n",
    "\n",
    "print(\"Matrix A:\\n\", x)\n",
    "print()\n",
    "print(\"Matrix B:\\n\", y)\n",
    "print()\n",
    "print(\"Dot Product:\\n\",dot_product)\n",
    "print()\n",
    "print(\"Diagonal of Dot Product:\\n\",diagonal_d)"
   ]
  },
  {
   "cell_type": "markdown",
   "id": "39f35ba3",
   "metadata": {},
   "source": [
    "# 13. How to find the most frequent value in an array?"
   ]
  },
  {
   "cell_type": "code",
   "execution_count": 63,
   "id": "4d364d33",
   "metadata": {},
   "outputs": [
    {
     "name": "stdout",
     "output_type": "stream",
     "text": [
      "Your array:\n",
      " [3 1 7 2 9 6 9 3 5 1 5 8 1 2 4 5 6 6 8 8 2 1 3 8 5 4 9 6 5 5 3 1 0 2 6 3 6\n",
      " 5 4 4 3 0 4 5 2 1 8 3 0 3]\n",
      "Most Frequent Value: 3\n"
     ]
    }
   ],
   "source": [
    "import numpy as np\n",
    "\n",
    "x= np.random.randint(0,10,50)\n",
    "\n",
    "unique_values, counts = np.unique(x, return_counts=True)\n",
    "most_frequent_value = unique_values[np.argmax(counts)]\n",
    "\n",
    "print(\"Your array:\\n\",x)\n",
    "print(\"Most Frequent Value:\", most_frequent_value)"
   ]
  },
  {
   "cell_type": "markdown",
   "id": "b685847e",
   "metadata": {},
   "source": [
    "# 14. How to get the n largest values of an array"
   ]
  },
  {
   "cell_type": "code",
   "execution_count": 70,
   "id": "8bc0e0cf",
   "metadata": {},
   "outputs": [
    {
     "name": "stdout",
     "output_type": "stream",
     "text": [
      "[ 0  7  8  6  4  5  3  1  9  2 10]\n",
      "Array: [ 1  8  9  7  5  6  4  2  3  8 10]\n",
      "3 Largest Values: [ 8  9 10]\n"
     ]
    }
   ],
   "source": [
    "import numpy as np\n",
    "\n",
    "x= np.array([1,8,9,7,5,6,4,2,3,8,10])\n",
    "n = 3\n",
    "sorted_indices = np.argsort(x)\n",
    "print(sorted_indices)\n",
    "\n",
    "n_largest_values = x[sorted_indices[-n:]]\n",
    "\n",
    "print(\"Array:\",x)\n",
    "print(f\"{n} Largest Values:\", n_largest_values)"
   ]
  },
  {
   "cell_type": "markdown",
   "id": "f5edd6d6",
   "metadata": {},
   "source": [
    "# 15. How to create a record array from a regular array?"
   ]
  },
  {
   "cell_type": "code",
   "execution_count": 75,
   "id": "c4be173a",
   "metadata": {},
   "outputs": [
    {
     "name": "stdout",
     "output_type": "stream",
     "text": [
      "Regular Array: [('Sravan', 22) ('Pavan', 11) ('Govind', 33)]\n",
      "Record Array: (('Sravan', 22), ('Pavan', 11), ('Govind', 33))\n"
     ]
    }
   ],
   "source": [
    "import numpy as np\n",
    "\n",
    "x= np.array([(\"Sravan\", 22), (\"Pavan\", 11), (\"Govind\", 33)],dtype=[(\"name\", \"U10\"), (\"age\", int)])\n",
    "\n",
    "\n",
    "y= np.rec.fromarrays(x.T)\n",
    "\n",
    "print(\"Regular Array:\",x)\n",
    "print(\"Record Array:\",y)"
   ]
  },
  {
   "cell_type": "markdown",
   "id": "cf34eadd",
   "metadata": {},
   "source": [
    "# 16. How to swap two rows of an array? "
   ]
  },
  {
   "cell_type": "code",
   "execution_count": 80,
   "id": "e358596e",
   "metadata": {},
   "outputs": [
    {
     "name": "stdout",
     "output_type": "stream",
     "text": [
      "Original Array: \n",
      " [[4 5 6]\n",
      " [1 2 3]\n",
      " [7 8 9]]\n"
     ]
    }
   ],
   "source": [
    "import numpy as np\n",
    "\n",
    "array = np.array([[1,2,3],[4,5,6],[7,8,9]])\n",
    "\n",
    "row1_index = 0 \n",
    "row2_index = 1\n",
    "\n",
    "\n",
    "array[row1_index], array[row2_index] = array[row2_index].copy(), array[row1_index].copy()\n",
    "\n",
    "print(\"Original Array: \\n\",array)"
   ]
  },
  {
   "cell_type": "markdown",
   "id": "2045ca8a",
   "metadata": {},
   "source": [
    "# 17. Write python code to reshape to the next dimension of numpy array?"
   ]
  },
  {
   "cell_type": "code",
   "execution_count": 83,
   "id": "c716ec58",
   "metadata": {},
   "outputs": [
    {
     "name": "stdout",
     "output_type": "stream",
     "text": [
      "Original Array:\n",
      "[[ 23  34 121]\n",
      " [ 23  22  67]\n",
      " [686 434 123]]\n",
      "\n",
      "Reshaped Array:\n",
      "[[[ 23]\n",
      "  [ 34]\n",
      "  [121]]\n",
      "\n",
      " [[ 23]\n",
      "  [ 22]\n",
      "  [ 67]]\n",
      "\n",
      " [[686]\n",
      "  [434]\n",
      "  [123]]]\n"
     ]
    }
   ],
   "source": [
    "x=np.array([[23,34,121],[23,22,67],[686,434,123]])\n",
    "reshaped_x = x.reshape(x.shape[0], x.shape[1], 1)\n",
    "\n",
    "print(\"Original Array:\")\n",
    "print(x)\n",
    "\n",
    "print(\"\\nReshaped Array:\")\n",
    "print(reshaped_x)"
   ]
  },
  {
   "cell_type": "code",
   "execution_count": null,
   "id": "278c5dc0",
   "metadata": {},
   "outputs": [],
   "source": []
  }
 ],
 "metadata": {
  "kernelspec": {
   "display_name": "Python 3 (ipykernel)",
   "language": "python",
   "name": "python3"
  },
  "language_info": {
   "codemirror_mode": {
    "name": "ipython",
    "version": 3
   },
   "file_extension": ".py",
   "mimetype": "text/x-python",
   "name": "python",
   "nbconvert_exporter": "python",
   "pygments_lexer": "ipython3",
   "version": "3.11.4"
  }
 },
 "nbformat": 4,
 "nbformat_minor": 5
}
