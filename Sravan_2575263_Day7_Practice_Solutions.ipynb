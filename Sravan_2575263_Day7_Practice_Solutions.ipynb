{
 "cells": [
  {
   "cell_type": "markdown",
   "id": "162c52cc",
   "metadata": {},
   "source": [
    "# 1.  Write a Python program to find a target values in a list using linear search with following steps: a. Initialize the list to store the input elements."
   ]
  },
  {
   "cell_type": "code",
   "execution_count": 10,
   "id": "f058c7cf",
   "metadata": {},
   "outputs": [
    {
     "name": "stdout",
     "output_type": "stream",
     "text": [
      "Enter NO of elements to be inserted:\t5\n",
      "Enter the elements 1:45\n",
      "Enter the elements 2:51\n",
      "Enter the elements 3:55\n",
      "Enter the elements 4:52\n",
      "Enter the elements 5:58\n",
      "Enter the value to be searched: \t74\n",
      "Element 74 not found in the list\n"
     ]
    }
   ],
   "source": [
    "data=[]\n",
    "n=int(input('Enter NO of elements to be inserted:\\t'))\n",
    "for i in range(0,n):\n",
    "    x=int(input('Enter the elements %d:'%(i+1)))\n",
    "    data.append(x)\n",
    "    \n",
    "e=int(input('Enter the value to be searched: \\t'))\n",
    "pos=0\n",
    "found=False\n",
    "while pos <n and not found:\n",
    "    if data[pos]==e:\n",
    "        found=True\n",
    "    else:\n",
    "        pos+=1\n",
    "        \n",
    "if found:\n",
    "    print('Element %d Found at Position %d'%(e,pos+1))\n",
    "    \n",
    "else:\n",
    "    print('Element %d not found in the list'%e)\n"
   ]
  },
  {
   "cell_type": "markdown",
   "id": "10c1586f",
   "metadata": {},
   "source": [
    "# 2. Write a Python program to implement binary search to find the target values from the list: a. Create a separate function to do binary search."
   ]
  },
  {
   "cell_type": "code",
   "execution_count": 4,
   "id": "8b18509a",
   "metadata": {},
   "outputs": [
    {
     "name": "stdout",
     "output_type": "stream",
     "text": [
      "enter the number to be inserted:5\n",
      "enter the data: 23\n",
      "enter the data: 56\n",
      "enter the data: 87\n",
      "enter the data: 96\n",
      "enter the data: 85\n",
      "[23, 56, 85, 87, 96]\n",
      "enter the value to be searched: 85\n",
      "2\n"
     ]
    }
   ],
   "source": [
    "def binary_search(data, low, high, x):\n",
    " \n",
    "    if high >= low:\n",
    " \n",
    "        mid = (high + low) // 2\n",
    " \n",
    "        if data[mid] == x:\n",
    "            return mid\n",
    " \n",
    "        \n",
    "        elif data[mid] > x:\n",
    "            return binary_search(data, low, mid - 1, x)\n",
    " \n",
    "        else:\n",
    "            return binary_search(data, mid + 1, high, x)\n",
    " \n",
    "    else:\n",
    "        return -1\n",
    "    \n",
    "L=[]\n",
    "n=int(input('enter the number to be inserted:'))\n",
    "\n",
    "for i in range(n):\n",
    "    a=int(input('enter the data: '))\n",
    "    L.append(a)\n",
    "L.sort()\n",
    "print(L)\n",
    "s=int(input('enter the value to be searched: '))\n",
    "print(binary_search(L,0,len(L)-1,s))\n"
   ]
  },
  {
   "cell_type": "markdown",
   "id": "1bd12bb5",
   "metadata": {},
   "source": [
    "# 6.Write a Python script to perform the following operations on a singly linked list a. Create a list b. Find the smallest element from the list\n"
   ]
  },
  {
   "cell_type": "code",
   "execution_count": 1,
   "id": "3d7e142e",
   "metadata": {},
   "outputs": [
    {
     "name": "stdout",
     "output_type": "stream",
     "text": [
      "Smallest Element: 5\n",
      "Elements in Reverse Order:\n",
      "20 -> 5 -> 15 -> 5 -> 10 -> None\n"
     ]
    }
   ],
   "source": [
    "class Node:\n",
    "    def __init__(self, data):\n",
    "        self.data = data\n",
    "        self.next = None\n",
    "\n",
    "class LinkedList:\n",
    "    def __init__(self):\n",
    "        self.head = None\n",
    "\n",
    "    def append(self, data):\n",
    "        new_node = Node(data)\n",
    "        if not self.head:\n",
    "            self.head = new_node\n",
    "            return\n",
    "        current = self.head\n",
    "        while current.next:\n",
    "            current = current.next\n",
    "        current.next = new_node\n",
    "\n",
    "    def find_smallest(self):\n",
    "        if not self.head:\n",
    "            return None\n",
    "        current = self.head\n",
    "        smallest = current.data\n",
    "        while current:\n",
    "            if current.data < smallest:\n",
    "                smallest = current.data\n",
    "            current = current.next\n",
    "        return smallest\n",
    "\n",
    "    def insert_if_not_duplicate(self, data):\n",
    "        if not self.head:\n",
    "            self.head = Node(data)\n",
    "            return\n",
    "        current = self.head\n",
    "        while current.next:\n",
    "            if current.data == data:\n",
    "                return\n",
    "            current = current.next\n",
    "        if current.data == data:\n",
    "            return\n",
    "        current.next = Node(data)\n",
    "\n",
    "    def display_reverse(self):\n",
    "        def display_recursive(node):\n",
    "            if node:\n",
    "                display_recursive(node.next)\n",
    "                print(node.data, end=\" -> \")\n",
    "\n",
    "        display_recursive(self.head)\n",
    "        print(\"None\")\n",
    "\n",
    "\n",
    "my_linked_list = LinkedList()\n",
    "my_linked_list.append(10)\n",
    "my_linked_list.append(5)\n",
    "my_linked_list.append(15)\n",
    "my_linked_list.append(5)\n",
    "\n",
    "\n",
    "smallest_element = my_linked_list.find_smallest()\n",
    "print(\"Smallest Element:\", smallest_element)\n",
    "\n",
    "\n",
    "my_linked_list.insert_if_not_duplicate(20)\n",
    "my_linked_list.insert_if_not_duplicate(5)\n",
    "\n",
    "\n",
    "print(\"Elements in Reverse Order:\")\n",
    "my_linked_list.display_reverse()"
   ]
  },
  {
   "cell_type": "markdown",
   "id": "a6711798",
   "metadata": {},
   "source": [
    "# 7. Write a python program to implement the various operations for Stack ADT Push ii) Pop iii.) Display."
   ]
  },
  {
   "cell_type": "code",
   "execution_count": 7,
   "id": "7face578",
   "metadata": {},
   "outputs": [
    {
     "name": "stdout",
     "output_type": "stream",
     "text": [
      "stack elements:\n",
      "3\n",
      "2\n",
      "1\n",
      "stack is empty\n",
      "Popped item: 3\n",
      "stack elements:\n",
      "2\n",
      "1\n",
      "stack is empty\n"
     ]
    }
   ],
   "source": [
    "class stack:\n",
    "    def __init__(self):\n",
    "        self.items=[]\n",
    "        \n",
    "    def push(self,item):\n",
    "        self.items.append(item)\n",
    "        \n",
    "    def pop(self):\n",
    "        if not self.is_empty():\n",
    "            return self.items.pop()\n",
    "        else:\n",
    "            return \"Stack is empty\"\n",
    "        \n",
    "    def display(self):\n",
    "        if not self.is_empty():\n",
    "            print(\"stack elements:\")\n",
    "            for item in reversed(self.items):\n",
    "                print(item)\n",
    "            else:\n",
    "                print(\"stack is empty\")\n",
    "                \n",
    "    def is_empty(self):\n",
    "        return len(self.items) == 0\n",
    "    \n",
    "stack=stack()\n",
    "\n",
    "stack.push(1)\n",
    "stack.push(2)\n",
    "stack.push(3)\n",
    "\n",
    "stack.display()\n",
    "\n",
    "popped_item=stack.pop()\n",
    "print(\"Popped item:\",popped_item)\n",
    "\n",
    "stack.display()"
   ]
  },
  {
   "cell_type": "markdown",
   "id": "2c9eac49",
   "metadata": {},
   "source": [
    "# 8. Write a python script to implement the various operations for Queue ADT 4) Insert ii) Delete in.) Display.\n"
   ]
  },
  {
   "cell_type": "code",
   "execution_count": 8,
   "id": "91f2a66c",
   "metadata": {},
   "outputs": [
    {
     "name": "stdout",
     "output_type": "stream",
     "text": [
      "Queue elements:\n",
      "1\n",
      "2\n",
      "3\n",
      "Deleted item: 1\n",
      "Queue elements:\n",
      "2\n",
      "3\n"
     ]
    }
   ],
   "source": [
    "class Queue:\n",
    "    def __init__(self):\n",
    "        self.items = []\n",
    "\n",
    "    def insert(self, item):\n",
    "        self.items.append(item)\n",
    "\n",
    "    def delete(self):\n",
    "        if not self.is_empty():\n",
    "            return self.items.pop(0)\n",
    "        else:\n",
    "            return \"Queue is empty\"\n",
    "\n",
    "    def display(self):\n",
    "        if not self.is_empty():\n",
    "            print(\"Queue elements:\")\n",
    "            for item in self.items:\n",
    "                print(item)\n",
    "        else:\n",
    "            print(\"Queue is empty\")\n",
    "\n",
    "    def is_empty(self):\n",
    "        return len(self.items) == 0\n",
    "\n",
    "queue = Queue()\n",
    "\n",
    "queue.insert(1)\n",
    "queue.insert(2)\n",
    "queue.insert(3)\n",
    "\n",
    "queue.display() \n",
    "\n",
    "deleted_item = queue.delete()\n",
    "print(\"Deleted item:\", deleted_item)\n",
    "\n",
    "queue.display()"
   ]
  },
  {
   "cell_type": "markdown",
   "id": "48a75a59",
   "metadata": {},
   "source": [
    "# 9. Write a program in python to convert the following infix expression to its postfix form using push and pop operations of a Stack\n",
    "\n",
    "A/BC+D'E-PG b. (B^2-4°A°CY(1/2) (100)"
   ]
  },
  {
   "cell_type": "code",
   "execution_count": 2,
   "id": "a167b0ab",
   "metadata": {},
   "outputs": [
    {
     "name": "stdout",
     "output_type": "stream",
     "text": [
      "Infix Expression A: A/B^C+D*E-F*G\n",
      "Postfix Expression A: ABC^/DE*+FG*-\n",
      "\n",
      "Infix Expression B: (B^2-4*A*C)^(1/2)(100)\n",
      "Postfix Expression B: B2^4A*C*-12/100^\n"
     ]
    }
   ],
   "source": [
    "class Stack:\n",
    "    def __init__(self):\n",
    "        self.items = []\n",
    "\n",
    "    def push(self, item):\n",
    "        self.items.append(item)\n",
    "\n",
    "    def pop(self):\n",
    "        if not self.is_empty():\n",
    "            return self.items.pop()\n",
    "        else:\n",
    "            return None\n",
    "\n",
    "    def is_empty(self):\n",
    "        return len(self.items) == 0\n",
    "\n",
    "    def peek(self):\n",
    "        if not self.is_empty():\n",
    "            return self.items[-1]\n",
    "        else:\n",
    "            return None\n",
    "\n",
    "def infix_to_postfix(expression):\n",
    "    precedence = {\n",
    "        '+': 1,\n",
    "        '-': 1,\n",
    "        '*': 2,\n",
    "        '/': 2,\n",
    "        '^': 3,\n",
    "    }\n",
    "\n",
    "    def is_operator(char):\n",
    "        return char in precedence\n",
    "\n",
    "    def higher_precedence(op1, op2):\n",
    "        return precedence[op1] >= precedence[op2]\n",
    "\n",
    "    output = []\n",
    "    stack = Stack()\n",
    "\n",
    "    for char in expression:\n",
    "        if char.isalnum():\n",
    "            output.append(char)\n",
    "        elif char == '(':\n",
    "            stack.push(char)\n",
    "        elif char == ')':\n",
    "            while stack.peek() != '(' and not stack.is_empty():\n",
    "                output.append(stack.pop())\n",
    "            if not stack.is_empty() and stack.peek() == '(':\n",
    "                stack.pop()\n",
    "        else:\n",
    "            while (not stack.is_empty() and\n",
    "                   stack.peek() != '(' and\n",
    "                   higher_precedence(stack.peek(), char)):\n",
    "                output.append(stack.pop())\n",
    "            stack.push(char)\n",
    "\n",
    "    while not stack.is_empty():\n",
    "        output.append(stack.pop())\n",
    "\n",
    "    return ''.join(output)\n",
    "\n",
    "infix_expression_a = \"A/B^C+D*E-F*G\"\n",
    "postfix_expression_a = infix_to_postfix(infix_expression_a)\n",
    "print(\"Infix Expression A:\", infix_expression_a)\n",
    "print(\"Postfix Expression A:\", postfix_expression_a)\n",
    "\n",
    "infix_expression_b = \"(B^2-4*A*C)^(1/2)(100)\"\n",
    "postfix_expression_b = infix_to_postfix(infix_expression_b)\n",
    "print(\"\\nInfix Expression B:\", infix_expression_b)\n",
    "print(\"Postfix Expression B:\", postfix_expression_b)"
   ]
  },
  {
   "cell_type": "code",
   "execution_count": null,
   "id": "22e33f3b",
   "metadata": {},
   "outputs": [],
   "source": []
  }
 ],
 "metadata": {
  "kernelspec": {
   "display_name": "Python 3 (ipykernel)",
   "language": "python",
   "name": "python3"
  },
  "language_info": {
   "codemirror_mode": {
    "name": "ipython",
    "version": 3
   },
   "file_extension": ".py",
   "mimetype": "text/x-python",
   "name": "python",
   "nbconvert_exporter": "python",
   "pygments_lexer": "ipython3",
   "version": "3.11.4"
  }
 },
 "nbformat": 4,
 "nbformat_minor": 5
}
