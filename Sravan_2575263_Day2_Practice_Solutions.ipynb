{
 "cells": [
  {
   "cell_type": "markdown",
   "id": "7adcef59",
   "metadata": {},
   "source": [
    "# 1. Write a python Function to list even and odd numbers in a list.\n"
   ]
  },
  {
   "cell_type": "code",
   "execution_count": null,
   "id": "a2073148",
   "metadata": {},
   "outputs": [],
   "source": [
    "def odd_even(list1):\n",
    "    even=[]\n",
    "    odd=[]\n",
    "\n",
    "    for i in list1:\n",
    "        if (i%2==0):\n",
    "            even.append(i)\n",
    "   \n",
    "        else:\n",
    "            odd.append(i)\n",
    "    \n",
    "print(\"The odd numbers are: \",odd)\n",
    "print(\"The even numbers are: \", even)\n",
    "list1=[23,56,29,67,66,45,88]\n",
    "odd_even(list1)"
   ]
  },
  {
   "cell_type": "markdown",
   "id": "637aef98",
   "metadata": {},
   "source": [
    "# 2.Write and run a Python program that asks the user to enter 8 integers (one at a time), and then prints out how many of those integers were even numbers. "
   ]
  },
  {
   "cell_type": "code",
   "execution_count": null,
   "id": "15b0786c",
   "metadata": {},
   "outputs": [],
   "source": [
    "def list_even(list2):\n",
    "    total=0\n",
    "\n",
    "    for i in list1:\n",
    "        if (i%2==0):\n",
    "            total+=1\n",
    "    return total\n",
    "    \n",
    "s=int(input(\"Enter the number: \" ))\n",
    "list3=[]\n",
    "for i  in range(s): \n",
    "    e=int(input())\n",
    "    list3.append(e)\n",
    "list_even(list3)"
   ]
  },
  {
   "cell_type": "markdown",
   "id": "fc85ca28",
   "metadata": {},
   "source": [
    "# 3. Write a Python program where you take any positive integer n, if n is even, divide it by 2 to get n/ 2. If n is odd, multiply it by 3 and add 1 to obtain 3n + 1. Repeat the process until you reach 1.\n"
   ]
  },
  {
   "cell_type": "code",
   "execution_count": null,
   "id": "764ad158",
   "metadata": {},
   "outputs": [],
   "source": [
    "def process_1(num):\n",
    "    while num!=1:\n",
    "        if(num%2==0):\n",
    "            num=num/2\n",
    "        else:\n",
    "            num=(num*3)+1\n",
    "            \n",
    "    print(num)\n",
    "    \n",
    "num=int(input(\"Enter the Number: \"))\n",
    "process_1(num)"
   ]
  },
  {
   "cell_type": "markdown",
   "id": "7272876f",
   "metadata": {},
   "source": [
    "# 4. Write a Python program to compute the sum of all the multiples of 3 or 5 below 500."
   ]
  },
  {
   "cell_type": "code",
   "execution_count": null,
   "id": "bc57bed2",
   "metadata": {},
   "outputs": [],
   "source": [
    "def mul_three_five(num):\n",
    "    total=0\n",
    "    \n",
    "    for num in range(1,500):\n",
    "    \n",
    "        if num%3==0 or num%5==0:\n",
    "            total=total+num\n",
    "            \n",
    "    print(\"The sum of 3 and 5 multiplesare: \", total)\n",
    "    \n",
    "mul_three_five(num)"
   ]
  },
  {
   "cell_type": "markdown",
   "id": "8dc8fafb",
   "metadata": {},
   "source": [
    "# 5. To write a Python program to find first 'n' prime numbers from a list of given numbers.\n",
    " "
   ]
  },
  {
   "cell_type": "code",
   "execution_count": null,
   "id": "63c1d8df",
   "metadata": {},
   "outputs": [],
   "source": [
    "def prime_five(n):\n",
    "    if n <= 1:\n",
    "        return False\n",
    "    if n <= 3:\n",
    "        return True\n",
    "    if n % 2 == 0 or n % 3 == 0:\n",
    "        return False\n",
    "    i = 5\n",
    "    while i * i <= n:\n",
    "        if n % i == 0 or n % (i + 2) == 0:\n",
    "            return False\n",
    "        i=i+6\n",
    "    return True\n",
    "\n",
    "def prime_in_list(x,y):\n",
    "    prime_num = []\n",
    "    for n in x:\n",
    "        if prime_five(n):\n",
    "            prime_num.append(n)\n",
    "            if len(prime_num) == y:\n",
    "                break\n",
    "    print(\"The First prime numbers are: \",prime_num)\n",
    "\n",
    "\n",
    "x = [2, 4, 6, 7, 9, 11, 13, 19, 23, 29, 31, 37, 41, 43, 47]\n",
    "y = int(input(\"Enter the value of 'n' for finding the first 'n' prime numbers: \"))\n",
    "\n",
    "prime_num = prime_in_list(x,y)"
   ]
  },
  {
   "cell_type": "markdown",
   "id": "248065f3",
   "metadata": {},
   "source": [
    "# 6. To write a Python program to compute matrix multiplication.\n"
   ]
  },
  {
   "cell_type": "code",
   "execution_count": null,
   "id": "a48e63a6",
   "metadata": {},
   "outputs": [],
   "source": [
    "def maxtrix_mul(mat1,mat2):\n",
    "    result=[]\n",
    "    for i in range(len(mat1)):\n",
    "        row=[]\n",
    "        for j in range(len(mat2)):\n",
    "            values = mat1[i][j] * mat2[i][j]\n",
    "            row.append(values)\n",
    "            result.append(row)\n",
    "        return result\n",
    "ind1=[[2,3,5],[52,26,54],[85,45,75]]\n",
    "ind2=[[89,47,72],[55,46,21],[45,12,19]]\n",
    "sum=maxtrix_mul(mat1,mat2)\n",
    "print(sum)"
   ]
  },
  {
   "cell_type": "markdown",
   "id": "8a2145c0",
   "metadata": {},
   "source": [
    "# 7. Write a python Function to count the number of vowels in a string."
   ]
  },
  {
   "cell_type": "code",
   "execution_count": null,
   "id": "30609fa8",
   "metadata": {},
   "outputs": [],
   "source": [
    "def vowels(alpha):\n",
    "\n",
    "    lst=['A','E','I','O','U','a','e','i','o','u']\n",
    "    count=0\n",
    "    for i in alpha:\n",
    "        if i in lst:\n",
    "            count=count+1\n",
    "    return count\n",
    "\n",
    "alpha=input(\"Enter your Name: \")\n",
    "t_vowels=vowels(alpha)\n",
    "\n",
    "print(\"The Total Vowels in your name are: \", t_vowels)\n"
   ]
  },
  {
   "cell_type": "markdown",
   "id": "f23f5c8a",
   "metadata": {},
   "source": [
    "# 8.Write a python Function for finding factorial for the given number using a recursive function\n"
   ]
  },
  {
   "cell_type": "code",
   "execution_count": null,
   "id": "410449ba",
   "metadata": {},
   "outputs": [],
   "source": [
    "def fact_recur(x):\n",
    "    if x==1:\n",
    "        return x\n",
    "    else:\n",
    "        return x*fact_recur(x-1)\n",
    "    \n",
    "x=int(input(\"Enter the number : \"))\n",
    "\n",
    "print(\"The factorial of {} is {} \".format(x,fact_recur(x)))"
   ]
  },
  {
   "cell_type": "markdown",
   "id": "7d35321f",
   "metadata": {},
   "source": [
    "# 9.Write a python Function for generating the Fibonacci series using the function.\n"
   ]
  },
  {
   "cell_type": "code",
   "execution_count": null,
   "id": "c99401be",
   "metadata": {},
   "outputs": [],
   "source": [
    "def fibo_series(x):\n",
    "\n",
    "    n1=0\n",
    "    n2=1\n",
    "    num=n2\n",
    "    count=1\n",
    "    \n",
    "    while count<=x:\n",
    "        print(num)\n",
    "        count= count+1\n",
    "        n1,n2=n2,num\n",
    "        num=n1+n2\n",
    "    print()\n",
    "    \n",
    "x=int(input(\"Enter the number: \"))\n",
    "fibo_series(x)"
   ]
  },
  {
   "cell_type": "markdown",
   "id": "ac514de1",
   "metadata": {},
   "source": [
    "# 10. Python program to display the given integer in reverse order using the function without an in-built function.\n"
   ]
  },
  {
   "cell_type": "code",
   "execution_count": null,
   "id": "73284c03",
   "metadata": {},
   "outputs": [],
   "source": [
    "def rev_int(x):\n",
    "    num=0\n",
    "    while x>0:\n",
    "        n=x % 10\n",
    "        num = num * 10 + n\n",
    "        x = x // 10\n",
    "        \n",
    "    return num\n",
    "\n",
    "s=int(input(\"Enter the number: \"))\n",
    "reverse_num= rev_int(s)\n",
    "print(\"The revesed number are: \",reverse_num)"
   ]
  },
  {
   "cell_type": "markdown",
   "id": "8cbcf9ec",
   "metadata": {},
   "source": [
    "# 11. Write a Python Function to display all integers within the range 200-300 whose sum of digits is an even number.\n"
   ]
  },
  {
   "cell_type": "code",
   "execution_count": null,
   "id": "522c374a",
   "metadata": {},
   "outputs": [],
   "source": [
    "def sum_even(x):\n",
    "    total=0\n",
    "    \n",
    "    for i in str(x):\n",
    "          total = total + int(i)\n",
    "    if total % 2==0:\n",
    "        return x\n",
    "\n",
    "for x in range(200,301):\n",
    "    if sum_even(x):\n",
    "        print(x)"
   ]
  },
  {
   "cell_type": "markdown",
   "id": "6fa8149c",
   "metadata": {},
   "source": [
    "# 12. Write a python Function to find the number of digits and sum of digits for a given integer.\n"
   ]
  },
  {
   "cell_type": "code",
   "execution_count": null,
   "id": "99dd3515",
   "metadata": {},
   "outputs": [],
   "source": [
    "def count_num_sum(x):\n",
    "    num=str(x)\n",
    "    c=len(num)\n",
    "    total=0\n",
    "    \n",
    "    for i in num:\n",
    "        total = total + int(i)\n",
    "        \n",
    "    print (\"Number of digits: \", c)\n",
    "    print(\" Sum of digits: \", total)\n",
    "    \n",
    "s=int(input(\"Enter the integr: \"))\n",
    "count_num_sum(s)"
   ]
  },
  {
   "cell_type": "markdown",
   "id": "a7146af7",
   "metadata": {},
   "source": [
    "# 13. Write functions called is sorted that takes a list as a parameter and returns True if the list is sorted in ascending order and False otherwise and has duplicates that takes a list and returns True if there is any element that appears more than once. It should not modify the original list.\n"
   ]
  },
  {
   "cell_type": "code",
   "execution_count": null,
   "id": "b487a665",
   "metadata": {},
   "outputs": [],
   "source": [
    "def sorted_list(x):\n",
    "    flag =0\n",
    "    i=1\n",
    "    while i < len(x):\n",
    "        if (x[i] < x[i-1]):\n",
    "            flag = 1\n",
    "        i+=1\n",
    "        \n",
    "    if( not flag):\n",
    "        print(\"Yes, The given list is sorted\")\n",
    "    else:\n",
    "        print(\"No, The given list is not sorted\")\n",
    "            \n",
    "def dup(arr):\n",
    "    again =[]\n",
    "    for item in arr:\n",
    "        if item in again:\n",
    "            return True\n",
    "        again.append(item)\n",
    "    return False\n",
    "            \n",
    "list=[1,2,3,4,5,6]\n",
    "print(\" List is: \",list)\n",
    "sorted_list(list)\n",
    "dup(list)"
   ]
  },
  {
   "cell_type": "markdown",
   "id": "3a99c7f9",
   "metadata": {},
   "source": [
    "# 14. Write functions called nested_sum that takes a list of integers and adds up the elements from all the nested lists and cumsum that takes a list of numbers and returns the cumulative sum; that is, a new list where the ith element is the sum of the first i + 1 elements from the original list."
   ]
  },
  {
   "cell_type": "code",
   "execution_count": 7,
   "id": "f2661d04",
   "metadata": {},
   "outputs": [
    {
     "name": "stdout",
     "output_type": "stream",
     "text": [
      "Sum of elements in nested list: 56\n",
      "Cumulative sum of the list: [1, 3, 6, 10, 15, 21]\n"
     ]
    }
   ],
   "source": [
    "def nest(lst):\n",
    "    total = 0\n",
    "    for item in lst:\n",
    "        if isinstance(item, list):\n",
    "            total += nest(item)\n",
    "        else:\n",
    "            total += item\n",
    "    return total\n",
    "\n",
    "nested_list = [2, 4, [6, 8], [10, [12, 14]]]\n",
    "result = nest(nested_list)\n",
    "print(\"Sum of elements in nested list:\",result)\n",
    "\n",
    "def cumsum(numbers):\n",
    "    cumulative_sum = []\n",
    "    current_sum = 0\n",
    "    for num in numbers:\n",
    "        current_sum += num\n",
    "        cumulative_sum.append(current_sum)\n",
    "    return cumulative_sum\n",
    "\n",
    "my_list = [1,2,3,4,5,6]\n",
    "cumulative_result = cumsum(my_list)\n",
    "print(\"Cumulative sum of the list:\", cumulative_result)\n"
   ]
  },
  {
   "cell_type": "code",
   "execution_count": null,
   "id": "1a484437",
   "metadata": {},
   "outputs": [],
   "source": []
  },
  {
   "cell_type": "code",
   "execution_count": null,
   "id": "32eb6744",
   "metadata": {},
   "outputs": [],
   "source": []
  }
 ],
 "metadata": {
  "kernelspec": {
   "display_name": "Python 3 (ipykernel)",
   "language": "python",
   "name": "python3"
  },
  "language_info": {
   "codemirror_mode": {
    "name": "ipython",
    "version": 3
   },
   "file_extension": ".py",
   "mimetype": "text/x-python",
   "name": "python",
   "nbconvert_exporter": "python",
   "pygments_lexer": "ipython3",
   "version": "3.11.4"
  }
 },
 "nbformat": 4,
 "nbformat_minor": 5
}
