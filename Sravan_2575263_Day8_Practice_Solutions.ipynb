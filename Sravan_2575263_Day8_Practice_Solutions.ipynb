{
 "cells": [
  {
   "cell_type": "markdown",
   "id": "5169c541",
   "metadata": {},
   "source": [
    "# 3.  Write a Python program for sorting a list of elements using selection sort algorithm: a. Assume two lists: Sorted list- Initially empty and Unsorted List-Given input list.\n",
    "\n",
    "b. In the first iteration, find the smallest element in the unsorted list and place it in the sorted list. c. In the second iteration, find the smallest element in the unsorted list and place it in the\n",
    "\n",
    "correct position by comparing with the element in the sorted list.\n",
    "\n",
    "d. In the third iteration, again find the smallest element in the unsorted list and place it in the\n",
    "\n",
    "correct position by comparing with the elements in the sorted list. e. This process continues till the unsorted list becomes empty. f. Display the sorted list.\n",
    "\n"
   ]
  },
  {
   "cell_type": "code",
   "execution_count": 9,
   "id": "b57fdf09",
   "metadata": {},
   "outputs": [
    {
     "name": "stdout",
     "output_type": "stream",
     "text": [
      "Sorted list:  [0.1, 14, 24, 45, 96, 154, 698.58]\n"
     ]
    }
   ],
   "source": [
    "def selection_sorting(input_lst):\n",
    "    sorted_lst = []  \n",
    "\n",
    "    while input_lst:  \n",
    "        min_element = input_lst[0]  \n",
    "\n",
    "        for i in input_lst:\n",
    "            if i < min_element:\n",
    "                min_element = i \n",
    "\n",
    "        sorted_lst.append(min_element)  \n",
    "        input_lst.remove(min_element)   \n",
    "\n",
    "    return sorted_lst\n",
    "\n",
    "input_lst = [698.58,45,96,24,154,14,0.1]\n",
    "\n",
    "sorted_lst = selection_sort(input_lst)\n",
    "print(\"Sorted list: \",sorted_lst)\n"
   ]
  },
  {
   "cell_type": "markdown",
   "id": "f22f411a",
   "metadata": {},
   "source": [
    "# 4. Write a Python program for sorting a list of elements using insertion sort algorithm:"
   ]
  },
  {
   "cell_type": "code",
   "execution_count": 11,
   "id": "28ce8b1e",
   "metadata": {},
   "outputs": [
    {
     "name": "stdout",
     "output_type": "stream",
     "text": [
      "Sorted list is:  [0.1, 14, 24, 45, 96, 154, 698.58]\n"
     ]
    }
   ],
   "source": [
    "def insertion_sort(input_list):\n",
    "    sorted_list = []  \n",
    "\n",
    "    for item in input_list:\n",
    "        if not sorted_list:\n",
    "            sorted_list.append(item)  \n",
    "        else:\n",
    "            \n",
    "            inserted = False\n",
    "            for i in range(len(sorted_list)):\n",
    "                if item < sorted_list[i]:\n",
    "                    sorted_list.insert(i, item)  \n",
    "                    inserted = True\n",
    "                    break\n",
    "\n",
    "            if not inserted:\n",
    "                sorted_list.append(item)  \n",
    "\n",
    "    return sorted_list\n",
    "\n",
    "input_list = [698.58,45,96,24,154,14,0.1]\n",
    "\n",
    "sorted_list = insertion_sort(input_list)\n",
    "\n",
    "print(\"Sorted list is: \",sorted_list)\n"
   ]
  },
  {
   "cell_type": "markdown",
   "id": "b1ab852d",
   "metadata": {},
   "source": [
    "# 5. Write a Python program that performs merge sort on a list of numbers: a. Divide: If the given array has zero or one element, return.\n",
    "\n",
    "1. Otherwise\n",
    "\n",
    "ii. Divide the input list in to two halves each containing half of the elements. i.e. left half and right half.\n",
    "\n",
    "b. Conquer: Recursively sort the two lists (left half and right half).\n",
    "\n",
    "a. Call the merge sort on left half,\n",
    "\n",
    "b. Call the merge sort on right half.\n",
    "\n",
    "c. Combine: Combine the elements back in the input list by merging the two sorted lists into a sorted sequence.\n"
   ]
  },
  {
   "cell_type": "code",
   "execution_count": 14,
   "id": "92a280c5",
   "metadata": {},
   "outputs": [
    {
     "name": "stdout",
     "output_type": "stream",
     "text": [
      "Sorted list is:  [12, 14, 20, 47, 58, 89, 93, 457]\n"
     ]
    }
   ],
   "source": [
    "def merge_sort(input_list):\n",
    "    if len(input_list) > 1:\n",
    "        mid = len(input_list) // 2  \n",
    "\n",
    "        \n",
    "        left_half = input_list[:mid]\n",
    "        right_half = input_list[mid:]\n",
    "\n",
    "        \n",
    "        merge_sort(left_half)\n",
    "        merge_sort(right_half)\n",
    "\n",
    "        \n",
    "        i = j = k = 0  \n",
    "\n",
    "        while i < len(left_half) and j < len(right_half):\n",
    "            if left_half[i] < right_half[j]:\n",
    "                input_list[k] = left_half[i]\n",
    "                i += 1\n",
    "            else:\n",
    "                input_list[k] = right_half[j]\n",
    "                j += 1\n",
    "            k += 1\n",
    "\n",
    "        while i < len(left_half):\n",
    "            input_list[k] = left_half[i]\n",
    "            i += 1\n",
    "            k += 1\n",
    "\n",
    "        while j < len(right_half):\n",
    "            input_list[k] = right_half[j]\n",
    "            j += 1\n",
    "            k += 1\n",
    "\n",
    "input_list = [89,58,12,47,93,457,14,20]\n",
    "\n",
    "merge_sort(input_list)\n",
    "\n",
    "print(\"Sorted list is: \", input_list)"
   ]
  },
  {
   "cell_type": "code",
   "execution_count": null,
   "id": "c549d58a",
   "metadata": {},
   "outputs": [],
   "source": []
  }
 ],
 "metadata": {
  "kernelspec": {
   "display_name": "Python 3 (ipykernel)",
   "language": "python",
   "name": "python3"
  },
  "language_info": {
   "codemirror_mode": {
    "name": "ipython",
    "version": 3
   },
   "file_extension": ".py",
   "mimetype": "text/x-python",
   "name": "python",
   "nbconvert_exporter": "python",
   "pygments_lexer": "ipython3",
   "version": "3.11.4"
  }
 },
 "nbformat": 4,
 "nbformat_minor": 5
}
