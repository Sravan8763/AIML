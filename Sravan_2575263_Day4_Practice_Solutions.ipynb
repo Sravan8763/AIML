{
 "cells": [
  {
   "cell_type": "markdown",
   "id": "b4a3b5bc",
   "metadata": {},
   "source": [
    "# 1. Write a python program with Exception handling to input marks for five subjects Physics, Chemistry, Biology, Mathematics, and Computer. Calculate the percentage and grade according to the following:\n"
   ]
  },
  {
   "cell_type": "code",
   "execution_count": null,
   "id": "e6795fb1",
   "metadata": {},
   "outputs": [],
   "source": [
    "def percentage():\n",
    "\n",
    "    try:\n",
    "        M=int(input(\"Enter the maths marks: \"))\n",
    "        P=int(input(\"Enter the physics marks: \"))\n",
    "        C=int(input(\"Enter the chemistry marks: \"))\n",
    "        B=int(input(\"Enter the biology marks: \"))\n",
    "        Com=int(input(\"Enter the computer marks: \"))\n",
    "        \n",
    "        total_marks=500\n",
    "        total=M+P+C+B+Com\n",
    "        percent=(total/total_marks)*100\n",
    "        \n",
    "        if percent>=90:\n",
    "            grade = \"A\"\n",
    "        \n",
    "        elif percent >=80:\n",
    "            grade = \"B\"\n",
    "            \n",
    "        elif percent >=70:\n",
    "            grade = \"C\"\n",
    "            \n",
    "        elif percent >=60:\n",
    "            grade = \"D\"\n",
    "            \n",
    "        elif percent >=40:\n",
    "            grade = \"E\"\n",
    "            \n",
    "        elif percent <40:\n",
    "            grade = \"Fail\"\n",
    "            \n",
    "        else:\n",
    "            raise Exception(\"Please enter the correct format \")\n",
    "        \n",
    "        \n",
    "        \n",
    "            \n",
    "        print(\"The total marks of all subjects are: \",total)\n",
    "        print(\"The percentage you got is: \",percent)\n",
    "        print(\"The grade you got is: \",grade)\n",
    "        \n",
    "    except Exception as e:\n",
    "        print(e)\n",
    "\n",
    "percentage()"
   ]
  },
  {
   "cell_type": "markdown",
   "id": "87278ce9",
   "metadata": {},
   "source": [
    "# 2. Write a python program with Exception handling to input electricity unit charges and calculate the total electricity bill according to the given condition:\n"
   ]
  },
  {
   "cell_type": "code",
   "execution_count": 18,
   "id": "ed423eab",
   "metadata": {},
   "outputs": [
    {
     "name": "stdout",
     "output_type": "stream",
     "text": [
      "Enter the number of electricity units consumed: 500\n",
      "Total electricity bill: Rs. 714.0\n"
     ]
    }
   ],
   "source": [
    "def bill(units):\n",
    "    if units <= 50:\n",
    "        bill = units * 0.50\n",
    "    elif units <= 150:\n",
    "        bill = (50 * 0.50) + ((units - 50) * 0.75)\n",
    "    elif units <= 250:\n",
    "        bill = (50 * 0.50) + (100 * 0.75) + ((units - 150) * 1.20)\n",
    "    else:\n",
    "        bill = (50 * 0.50) + (100 * 0.75) + (100 * 1.20) + ((units - 250) * 1.50)\n",
    "    return bill\n",
    "\n",
    "try:\n",
    "    units = float(input(\"Enter the number of electricity units consumed: \"))\n",
    "\n",
    "    if units >= 0:\n",
    "        total_bill = bill(units)\n",
    "        additional=total_bill+(total_bill * 0.2)\n",
    "        print(\"Total electricity bill: Rs.\",additional)\n",
    "    else:\n",
    "        raise Exception(\"Invalid input! Units should be non-negative.\")\n",
    "        \n",
    "except ValueError:\n",
    "    print(\"Invalid input! Please enter a valid numerical value for units.\")\n",
    "    \n",
    "except Exception as e:\n",
    "    print(e)\n",
    "    \n"
   ]
  },
  {
   "cell_type": "markdown",
   "id": "ef03612a",
   "metadata": {},
   "source": [
    "# 3. Write a python program with Exception handling to input the week number and print the weekday.\n"
   ]
  },
  {
   "cell_type": "code",
   "execution_count": 22,
   "id": "0f2154bd",
   "metadata": {},
   "outputs": [
    {
     "name": "stdout",
     "output_type": "stream",
     "text": [
      "Enter the week numbers: 5\n",
      "Friday is the weekday for the 5 you entered\n"
     ]
    }
   ],
   "source": [
    "def week():\n",
    "    try:\n",
    "        number=int(input(\"Enter the week numbers: \"))\n",
    "        \n",
    "        if number>=1 or number<=7:\n",
    "        \n",
    "            list=['Monday','Tuesday','Wednesday','Thursday','Friday','Saturday','Sunday']\n",
    "            list=list[number-1]\n",
    "            print(\"{} is the weekday for the {} you entered\".format(list,number))\n",
    "        \n",
    "        else:\n",
    "            raise exception (\"Enter the number from 1-7\")\n",
    "            \n",
    "    except expection as e:\n",
    "        print(e)\n",
    "\n",
    "week()"
   ]
  },
  {
   "cell_type": "markdown",
   "id": "42fd1ed2",
   "metadata": {},
   "source": [
    "# 4. Write a Python program to implement word count using command line arguments."
   ]
  },
  {
   "cell_type": "code",
   "execution_count": null,
   "id": "a4424b83",
   "metadata": {},
   "outputs": [],
   "source": [
    "import sys\n",
    "try:\n",
    "    def word_count(file_name):\n",
    "        \n",
    "            with open(file_name, 'r') as file:\n",
    "                text = file.read()\n",
    "    \n",
    "                words = text.split()\n",
    "    \n",
    "                word_counts = {}\n",
    "\n",
    "                for word in words:\n",
    "                    word = word.lower()  \n",
    "                    if word in word_counts:\n",
    "                        word_counts[word] += 1\n",
    "                    else:\n",
    "                        word_counts[word] = 1\n",
    "\n",
    "                return word_counts\n",
    "\n",
    "        \n",
    "    if len(sys.argv) != 2:\n",
    "        raise Exception(\"Atleast give one file as arguement\")\n",
    "    else:\n",
    "        file_name = sys.argv[1]\n",
    "        word_counts = word_count(file_name)\n",
    "\n",
    "except FileNotFoundError:\n",
    "    print(\"file not found error\")\n",
    "except Exception as e:\n",
    "    print(e)\n",
    "    \n",
    "    \n",
    "    \n",
    "\n",
    "import sys\n",
    "from wordcount import word_count\n",
    "\n",
    "try:\n",
    "    if len(sys.argv) != 2:\n",
    "        raise Exception(\"Atleast give one file as arguement\")\n",
    "    else:\n",
    "        file_name = sys.argv[1]\n",
    "        word_counts = word_count(file_name)\n",
    "\n",
    "        for word, count in word_counts.items():\n",
    "            print(f\"{word}: {count}\")\n",
    "except FileNotFoundError:\n",
    "    print(\"file not found error\")\n",
    "except Exception as e:\n",
    "    print(e)"
   ]
  },
  {
   "cell_type": "markdown",
   "id": "860ec574",
   "metadata": {},
   "source": [
    "# 5. Write a Python program for finding the most frequent words in a text read from a file."
   ]
  },
  {
   "cell_type": "code",
   "execution_count": 40,
   "id": "ff67dea9",
   "metadata": {},
   "outputs": [],
   "source": [
    "file1=open('test.txt','w')\n",
    "file1.writelines('My name is Sravan Kumar. I am an employee in Mphasis limited in')\n",
    "file1.close()"
   ]
  },
  {
   "cell_type": "code",
   "execution_count": 41,
   "id": "7bbcecc8",
   "metadata": {},
   "outputs": [
    {
     "data": {
      "text/plain": [
       "'My name is Sravan Kumar. I am an employee in Mphasis limited in'"
      ]
     },
     "execution_count": 41,
     "metadata": {},
     "output_type": "execute_result"
    }
   ],
   "source": [
    "file=open('test.txt','r')\n",
    "file.read()"
   ]
  },
  {
   "cell_type": "code",
   "execution_count": 42,
   "id": "a8b0b4c9",
   "metadata": {},
   "outputs": [],
   "source": [
    "file.close()"
   ]
  },
  {
   "cell_type": "code",
   "execution_count": 44,
   "id": "11b899af",
   "metadata": {},
   "outputs": [
    {
     "name": "stdout",
     "output_type": "stream",
     "text": [
      "{'am': 1, 'an': 1, 'employee': 1, 'i': 1, 'in': 2, 'is': 1, 'limited': 1, 'mphasis': 1, 'my': 1, 'name': 1, 'sravan': 1}\n"
     ]
    }
   ],
   "source": [
    "file1=open('test.txt','r')\n",
    "content=file1.read()\n",
    "\n",
    "words=content.lower().split()\n",
    "words.sort()\n",
    "\n",
    "text={}\n",
    "\n",
    "for i in words :\n",
    "    if i.isalpha():\n",
    "        count=words.count(i)\n",
    "        text[i]=count\n",
    "print(text)"
   ]
  },
  {
   "cell_type": "markdown",
   "id": "6cd72d0f",
   "metadata": {},
   "source": [
    "# 6. File Processing with Command-Line Arguments- Scenario: You are developing a command-line utility that processes text files. Users can specify input and output file paths as command-line arguments. Your program should handle exceptions gracefully."
   ]
  },
  {
   "cell_type": "code",
   "execution_count": 47,
   "id": "a0cc9a13",
   "metadata": {},
   "outputs": [
    {
     "name": "stdout",
     "output_type": "stream",
     "text": [
      "['-f', 'C:\\\\Users\\\\Sravan Kumar\\\\AppData\\\\Roaming\\\\jupyter\\\\runtime\\\\kernel-83c6e81a-dbda-4eac-9752-2247819701e3.json']\n",
      "Exit. NO FILE FOUND\n"
     ]
    }
   ],
   "source": [
    "import sys, pathlib, subprocess\n",
    "\n",
    "try:\n",
    "\n",
    "    if len(sys.argv)!=3:\n",
    "        sys.exit('Error, Please provide atleast one filename as argument')\n",
    "    input_files=sys.argv[1:3]\n",
    "    print(input_files)\n",
    "    for filename in input_files:\n",
    "        if not pathlib.Path(filename).is_file():\n",
    "            files_not_found.append(\"File '{}' not found\". format (filename))\n",
    "            continue\n",
    "    with open(input_files[0], 'r') as input_file:\n",
    "        data = input_file.read()\n",
    "\n",
    "        \n",
    "    processed_data = data.upper()\n",
    "\n",
    "    with open(input_files[1], 'w') as output_file:\n",
    "        output_file.write(processed_data)\n",
    "\n",
    "except NameError:\n",
    "    print(\"Exit. NO FILE FOUND\")"
   ]
  },
  {
   "cell_type": "code",
   "execution_count": null,
   "id": "85fc7ac2",
   "metadata": {},
   "outputs": [],
   "source": []
  }
 ],
 "metadata": {
  "kernelspec": {
   "display_name": "Python 3 (ipykernel)",
   "language": "python",
   "name": "python3"
  },
  "language_info": {
   "codemirror_mode": {
    "name": "ipython",
    "version": 3
   },
   "file_extension": ".py",
   "mimetype": "text/x-python",
   "name": "python",
   "nbconvert_exporter": "python",
   "pygments_lexer": "ipython3",
   "version": "3.11.4"
  }
 },
 "nbformat": 4,
 "nbformat_minor": 5
}
